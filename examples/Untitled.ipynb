{
 "cells": [
  {
   "cell_type": "code",
   "execution_count": 1,
   "metadata": {},
   "outputs": [
    {
     "name": "stdout",
     "output_type": "stream",
     "text": [
      "wqs  sq\n"
     ]
    }
   ],
   "source": [
    "\n",
    "\n",
    "import numpy as np\n",
    "from sklearn.datasets import load_boston\n",
    "\n",
    "from citk.layer import Dense, RBFDense\n",
    "from citk.model import FFN, ANFIS\n",
    "from citk.functions import ReLU, Linear, Sigmoid, Tanh\n",
    "from citk.losses import MSE, MAE, Huber\n",
    "from citk.optimisers import GeneticAlgorithmOptimizer, SGDOptimizer, ConjugateSGDOptimizer\n",
    "from sklearn.preprocessing import StandardScaler"
   ]
  },
  {
   "cell_type": "code",
   "execution_count": null,
   "metadata": {},
   "outputs": [],
   "source": [
    "from sklearn.datasets import load_boston\n",
    "from sklearn.preprocessing import QuantileTransformer, quantile_transform\n",
    "\n",
    "dataset = load_boston()\n",
    "target = np.array(dataset.feature_names) == \"DIS\"\n",
    "X = dataset.data[:, np.logical_not(target)]\n",
    "y = dataset.data[:, target].squeeze()\n",
    "y_trans = quantile_transform(dataset.data[:, target],\n",
    "                             n_quantiles=300,\n",
    "                             output_distribution='normal',\n",
    "                             copy=True).squeeze()"
   ]
  },
  {
   "cell_type": "code",
   "execution_count": null,
   "metadata": {},
   "outputs": [],
   "source": [
    "X_train, y_train = X[:300], np.expand_dims(y_trans[:300], -1)\n",
    "sc = StandardScaler()\n",
    "X_train = sc.fit_transform(X_train)"
   ]
  },
  {
   "cell_type": "code",
   "execution_count": null,
   "metadata": {},
   "outputs": [],
   "source": [
    "X_test = sc.fit_transform(X[300:320])\n",
    "y_test = np.expand_dims(y_trans[300:320], -1)"
   ]
  },
  {
   "cell_type": "code",
   "execution_count": null,
   "metadata": {},
   "outputs": [],
   "source": [
    "model = FFN(input_shape = X_train.shape[1], layer_specs=[RBFDense(3), Dense(1, nonlinearity=Linear)], loss=MSE, reg_coef=0.1)\n",
    "#model.compile(input_size = X_train.shape[1], output_size=1, layer_sizes=[25])"
   ]
  },
  {
   "cell_type": "code",
   "execution_count": null,
   "metadata": {},
   "outputs": [],
   "source": [
    "model = ANFIS(input_shape = X_train.shape[1], num_rules=5, loss=Huber, reg_coef=0.01)"
   ]
  },
  {
   "cell_type": "code",
   "execution_count": null,
   "metadata": {},
   "outputs": [],
   "source": [
    "trained, history = model.fit(train_sample=(X_train, y_train),\n",
    "                   validation_sample=(X_test, y_test),\n",
    "                   optimiser=GeneticAlgorithmOptimizer(55),\n",
    "                   batch_size=16,\n",
    "                   iters=100,\n",
    "                   verbose=True)"
   ]
  },
  {
   "cell_type": "code",
   "execution_count": null,
   "metadata": {},
   "outputs": [],
   "source": [
    "trained, history_1 = model.fit(train_sample=(X_train, y_train),\n",
    "                   validation_sample=(X_test, y_test),\n",
    "                   optimiser=ConjugateSGDOptimizer(batch_size=1, tol=1e-3, eta=0.001),\n",
    "                   batch_size=1,\n",
    "                   iters=20,\n",
    "                   verbose=True)"
   ]
  },
  {
   "cell_type": "code",
   "execution_count": null,
   "metadata": {},
   "outputs": [],
   "source": [
    "import seaborn as sns\n",
    "sns.set()"
   ]
  },
  {
   "cell_type": "code",
   "execution_count": null,
   "metadata": {},
   "outputs": [],
   "source": [
    "import pandas as pd\n",
    "#sns.lineplot(x=range(210), y='train_loss', data=pd.DataFrame(history).append(pd.DataFrame(history_1)).reset_index(drop=True))\n",
    "#sns.lineplot(x=range(210), y='validation_loss',data=pd.DataFrame(history).append(pd.DataFrame(history_1)).reset_index(drop=True))"
   ]
  },
  {
   "cell_type": "code",
   "execution_count": null,
   "metadata": {},
   "outputs": [],
   "source": [
    "pd.DataFrame(history).append(pd.DataFrame(history_1)).reset_index(drop=True)"
   ]
  },
  {
   "cell_type": "code",
   "execution_count": null,
   "metadata": {},
   "outputs": [],
   "source": [
    "sns.lineplot(x='iteration', y='train_loss', data=pd.DataFrame(history_1))\n",
    "sns.lineplot(x='iteration', y='validation_loss', data=pd.DataFrame(history_1))"
   ]
  },
  {
   "cell_type": "code",
   "execution_count": null,
   "metadata": {},
   "outputs": [],
   "source": [
    "predicted = trained.predict(X_train)"
   ]
  },
  {
   "cell_type": "code",
   "execution_count": null,
   "metadata": {
    "scrolled": true
   },
   "outputs": [],
   "source": [
    "predicted, y_train"
   ]
  },
  {
   "cell_type": "code",
   "execution_count": null,
   "metadata": {},
   "outputs": [],
   "source": [
    "sns.lineplot(x=np.linspace(0,1, len(predicted)), y=predicted.ravel())\n",
    "sns.lineplot(x=np.linspace(0,1, len(y_test)), y=y_test.ravel())"
   ]
  },
  {
   "cell_type": "code",
   "execution_count": null,
   "metadata": {},
   "outputs": [],
   "source": [
    "model.layer_specs[0].parser.get(model.parser.get(model.W_vect, 'Fuzzify0'), 'sigma')"
   ]
  },
  {
   "cell_type": "code",
   "execution_count": null,
   "metadata": {},
   "outputs": [],
   "source": [
    "model.parser.__dict__"
   ]
  },
  {
   "cell_type": "code",
   "execution_count": null,
   "metadata": {},
   "outputs": [],
   "source": [
    "model.W_vect"
   ]
  },
  {
   "cell_type": "code",
   "execution_count": null,
   "metadata": {},
   "outputs": [],
   "source": [
    "model.parser.__dict__['idxs_and_shapes'][<layer.Dense at 0x1d0eb71d9a0>]"
   ]
  },
  {
   "cell_type": "code",
   "execution_count": null,
   "metadata": {},
   "outputs": [],
   "source": []
  }
 ],
 "metadata": {
  "kernelspec": {
   "display_name": "Python 3",
   "language": "python",
   "name": "python3"
  },
  "language_info": {
   "codemirror_mode": {
    "name": "ipython",
    "version": 3
   },
   "file_extension": ".py",
   "mimetype": "text/x-python",
   "name": "python",
   "nbconvert_exporter": "python",
   "pygments_lexer": "ipython3",
   "version": "3.7.8"
  }
 },
 "nbformat": 4,
 "nbformat_minor": 4
}
