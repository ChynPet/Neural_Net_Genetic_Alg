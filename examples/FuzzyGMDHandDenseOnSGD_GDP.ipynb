{
 "cells": [
  {
   "cell_type": "code",
   "execution_count": 1,
   "metadata": {},
   "outputs": [
    {
     "name": "stderr",
     "output_type": "stream",
     "text": [
      "In /home/vsydorskyi/anaconda3/envs/venv/lib/python3.7/site-packages/matplotlib/mpl-data/stylelib/_classic_test.mplstyle: \n",
      "The text.latex.preview rcparam was deprecated in Matplotlib 3.3 and will be removed two minor releases later.\n",
      "In /home/vsydorskyi/anaconda3/envs/venv/lib/python3.7/site-packages/matplotlib/mpl-data/stylelib/_classic_test.mplstyle: \n",
      "The mathtext.fallback_to_cm rcparam was deprecated in Matplotlib 3.3 and will be removed two minor releases later.\n",
      "In /home/vsydorskyi/anaconda3/envs/venv/lib/python3.7/site-packages/matplotlib/mpl-data/stylelib/_classic_test.mplstyle: Support for setting the 'mathtext.fallback_to_cm' rcParam is deprecated since 3.3 and will be removed two minor releases later; use 'mathtext.fallback : 'cm' instead.\n",
      "In /home/vsydorskyi/anaconda3/envs/venv/lib/python3.7/site-packages/matplotlib/mpl-data/stylelib/_classic_test.mplstyle: \n",
      "The validate_bool_maybe_none function was deprecated in Matplotlib 3.3 and will be removed two minor releases later.\n",
      "In /home/vsydorskyi/anaconda3/envs/venv/lib/python3.7/site-packages/matplotlib/mpl-data/stylelib/_classic_test.mplstyle: \n",
      "The savefig.jpeg_quality rcparam was deprecated in Matplotlib 3.3 and will be removed two minor releases later.\n",
      "In /home/vsydorskyi/anaconda3/envs/venv/lib/python3.7/site-packages/matplotlib/mpl-data/stylelib/_classic_test.mplstyle: \n",
      "The keymap.all_axes rcparam was deprecated in Matplotlib 3.3 and will be removed two minor releases later.\n",
      "In /home/vsydorskyi/anaconda3/envs/venv/lib/python3.7/site-packages/matplotlib/mpl-data/stylelib/_classic_test.mplstyle: \n",
      "The animation.avconv_path rcparam was deprecated in Matplotlib 3.3 and will be removed two minor releases later.\n",
      "In /home/vsydorskyi/anaconda3/envs/venv/lib/python3.7/site-packages/matplotlib/mpl-data/stylelib/_classic_test.mplstyle: \n",
      "The animation.avconv_args rcparam was deprecated in Matplotlib 3.3 and will be removed two minor releases later.\n"
     ]
    }
   ],
   "source": [
    "from copy import deepcopy\n",
    "from itertools import combinations\n",
    "import typing as tp\n",
    "\n",
    "import numpy as np\n",
    "import pandas as pd\n",
    "from numpy.linalg import lstsq\n",
    "from scipy.optimize import linprog\n",
    "\n",
    "from matplotlib import pyplot as plt\n",
    "from citk.layer import Dense, FuzzyGMDHLayer\n",
    "from citk.model import FFN, GMDH\n",
    "from citk.functions import ReLU, Linear, BellMembership, GaussianMembership, Poly\n",
    "from citk.losses import MSE, FMSE\n",
    "from citk.optimisers import SGDOptimizer, SimplexOptimizer\n",
    "\n",
    "from utils import seed_everything, normalize_df, create_lags\n",
    "\n",
    "%matplotlib inline"
   ]
  },
  {
   "cell_type": "markdown",
   "metadata": {},
   "source": [
    "# Data"
   ]
  },
  {
   "cell_type": "code",
   "execution_count": 2,
   "metadata": {},
   "outputs": [
    {
     "name": "stderr",
     "output_type": "stream",
     "text": [
      "/home/vsydorskyi/src/Neural_Net_Genetic_Alg/examples/utils.py:114: SettingWithCopyWarning: \n",
      "A value is trying to be set on a copy of a slice from a DataFrame.\n",
      "Try using .loc[row_indexer,col_indexer] = value instead\n",
      "\n",
      "See the caveats in the documentation: https://pandas.pydata.org/pandas-docs/stable/user_guide/indexing.html#returning-a-view-versus-a-copy\n",
      "  train_df[f'{col}_{sh}'] = train_df.shift(sh)[col]\n",
      "/home/vsydorskyi/src/Neural_Net_Genetic_Alg/examples/utils.py:115: SettingWithCopyWarning: \n",
      "A value is trying to be set on a copy of a slice from a DataFrame.\n",
      "Try using .loc[row_indexer,col_indexer] = value instead\n",
      "\n",
      "See the caveats in the documentation: https://pandas.pydata.org/pandas-docs/stable/user_guide/indexing.html#returning-a-view-versus-a-copy\n",
      "  test_df[f'{col}_{sh}'] = test_df.shift(sh)[col]\n"
     ]
    }
   ],
   "source": [
    "RANDOM_SEED = 42\n",
    "N_LAGS = 2\n",
    "INITIAL_TEST_LEN = 8\n",
    "\n",
    "seed_everything(RANDOM_SEED)\n",
    "\n",
    "data = pd.read_csv('../data/data.csv', encoding='cp1251', sep=';', decimal=',').dropna()\n",
    "\n",
    "train_df, test_df = data.iloc[:-INITIAL_TEST_LEN], data.iloc[-INITIAL_TEST_LEN:]\n",
    "\n",
    "train_df, test_df = create_lags(\n",
    "    train_df, test_df, \n",
    "    train_df.columns.tolist(), \n",
    "    N_LAGS\n",
    ")\n",
    "\n",
    "y_col = 'ІСЦ (+1)'\n",
    "X_col = train_df.columns.tolist()\n",
    "X_col.remove(y_col)\n",
    "\n",
    "train_df, test_df = normalize_df(train_df, test_df, X_col)\n",
    "\n",
    "X_train = train_df[X_col].values\n",
    "X_test = test_df[X_col].values\n",
    "y_train = train_df[y_col].values[..., np.newaxis]\n",
    "y_test = test_df[y_col].values[..., np.newaxis]"
   ]
  },
  {
   "cell_type": "markdown",
   "metadata": {},
   "source": [
    "# GMDH Hypersearh"
   ]
  },
  {
   "cell_type": "markdown",
   "metadata": {},
   "source": [
    "## Possible architectures\n",
    "\n",
    "If we have one GMDH layer - GMDH -> Dense\n",
    "\n",
    "If we have two or more GMDH layers - ( GMDH -> Dense (F - outputs) ) * (N_GMDH_layers-1) -> GMDH -> Dense"
   ]
  },
  {
   "cell_type": "code",
   "execution_count": 3,
   "metadata": {},
   "outputs": [],
   "source": [
    "def gmdh_pipeline_predict(models: tp.Dict[tp.Tuple[int], GMDH], \n",
    "                  inputs: tp.Dict[tp.Tuple[int], np.ndarray],\n",
    "                  model_weights: np.ndarray) -> np.ndarray:\n",
    "    outputs = []\n",
    "    for i, (k, model) in enumerate(models.items()):\n",
    "        predicted = model_weights[i] * model.predict(inputs[k]).ravel()\n",
    "        outputs.append(predicted)\n",
    "    outputs = np.array(outputs).T\n",
    "    return np.sum(outputs, axis=1)[..., np.newaxis]\n",
    "\n",
    "def gmdh_pipeline_fit(models: tp.Dict[tp.Tuple[int], GMDH], \n",
    "                  inputs_train: tp.Dict[tp.Tuple[int], np.ndarray],\n",
    "                  outputs_train: np.ndarray,\n",
    "                  inputs_val: tp.Dict[tp.Tuple[int], np.ndarray],\n",
    "                  outputs_val: np.ndarray) -> np.ndarray:\n",
    "    outputs_partial_train = []\n",
    "    outputs_partial_test = []\n",
    "    for k, model in models.items():\n",
    "        predicted_train = model.predict(inputs_train[k]).ravel()\n",
    "        outputs_partial_train.append(predicted_train)\n",
    "        predicted_test = model.predict(inputs_val[k]).ravel()\n",
    "        outputs_partial_test.append(predicted_test)\n",
    "    outputs_partial_train = np.array(outputs_partial_train).T\n",
    "    outputs_partial_test = np.array(outputs_partial_test).T\n",
    "    W_vect = lstsq(outputs_partial_train, outputs_train.ravel())\n",
    "    return W_vect[0]"
   ]
  },
  {
   "cell_type": "code",
   "execution_count": 4,
   "metadata": {},
   "outputs": [
    {
     "name": "stdout",
     "output_type": "stream",
     "text": [
      "Partial model structure: {'parser': <citk.layer.WeightsParser object at 0x7f9e63c08690>, '_method_type': ('fuzzy',), '_poli_type': 'partial_quadratic', '_confidence': 0.9, 'layer_specs': [<citk.layer.FuzzyGMDHLayer object at 0x7f9e63c086d0>], 'regularization': 'l2', 'reg_coef': 0.01, '_loss': <function FMSE at 0x7f9e65eb64d0>, 'W_vect': array([0.03857035, 0.00434684, 0.21201257, 0.0244833 , 0.06510024,\n",
      "       0.12987745, 0.04012291, 0.04228585])}\n"
     ]
    },
    {
     "data": {
      "application/vnd.jupyter.widget-view+json": {
       "model_id": "a01269c2a3b94fee87b0f6948082e2f6",
       "version_major": 2,
       "version_minor": 0
      },
      "text/plain": [
       "HBox(children=(FloatProgress(value=0.0, description='Training ', max=10000.0, style=ProgressStyle(description_…"
      ]
     },
     "metadata": {},
     "output_type": "display_data"
    },
    {
     "name": "stdout",
     "output_type": "stream",
     "text": [
      "\n",
      "1 layers scored 2.191677026578003\n",
      "1 layers scored train 3.8235822692053794\n",
      "Partial model structure: {'parser': <citk.layer.WeightsParser object at 0x7f9e631fbe10>, '_method_type': ('fuzzy',), '_poli_type': 'partial_quadratic', '_confidence': 0.9, 'layer_specs': [<citk.layer.FuzzyGMDHLayer object at 0x7f9e631fba50>], 'regularization': 'l2', 'reg_coef': 0.01, '_loss': <function FMSE at 0x7f9e65eb64d0>, 'W_vect': array([0.03857035, 0.00434684, 0.21201257, 0.0244833 , 0.06510024,\n",
      "       0.12987745, 0.04012291, 0.04228585])}\n"
     ]
    },
    {
     "data": {
      "application/vnd.jupyter.widget-view+json": {
       "model_id": "73cef98ea6724b979aae48edec1c10d4",
       "version_major": 2,
       "version_minor": 0
      },
      "text/plain": [
       "HBox(children=(FloatProgress(value=0.0, description='Training ', max=10000.0, style=ProgressStyle(description_…"
      ]
     },
     "metadata": {},
     "output_type": "display_data"
    },
    {
     "name": "stdout",
     "output_type": "stream",
     "text": [
      "\n",
      "2 layers scored 14.239604769564517\n",
      "2 layers scored train 3.443970805189711\n"
     ]
    },
    {
     "name": "stderr",
     "output_type": "stream",
     "text": [
      "/home/vsydorskyi/anaconda3/envs/venv/lib/python3.7/site-packages/ipykernel_launcher.py:25: FutureWarning: `rcond` parameter will change to the default of machine precision times ``max(M, N)`` where M and N are the input matrix dimensions.\n",
      "To use the future default and silence this warning we advise to pass `rcond=None`, to keep using the old, explicitly pass `rcond=-1`.\n"
     ]
    }
   ],
   "source": [
    "do_hypersearh = True\n",
    "n_gmdh_layers = 1\n",
    "best_activations = 16\n",
    "all_metrics = []\n",
    "all_train_metrics = []\n",
    "best_train_pred = None\n",
    "best_test_pred = None\n",
    "best_model = None\n",
    "best_history = None\n",
    "\n",
    "all_possible_pairs = list(combinations(range(X_train.shape[1]),2))[::-2][:100]\n",
    "possible_models = dict()\n",
    "possible_pairs_train = dict()\n",
    "possible_pairs_test = dict()\n",
    "best_W = None\n",
    "\n",
    "i = 0\n",
    "while do_hypersearh:\n",
    "    partial_model = GMDH(\n",
    "                        input_shape=len(all_possible_pairs[i]), \n",
    "                        method_type='fuzzy', \n",
    "                        poli_type='partial_quadratic',\n",
    "                        loss=FMSE, \n",
    "                        confidence=0.9,\n",
    "                        reg_coef=0.01\n",
    "                    )\n",
    "    print(f\"Partial model structure: {partial_model.__dict__}\")\n",
    "    \n",
    "    trained, history = partial_model.fit(\n",
    "        train_sample=(X_train[:, all_possible_pairs[i]], y_train),\n",
    "        validation_sample=(X_test[:, all_possible_pairs[i]], y_test),\n",
    "        optimiser=SimplexOptimizer(alpha=0.01, eta=0.005),\n",
    "        batch_size=64,\n",
    "        epochs=10_000,\n",
    "        verbose=False,\n",
    "    )\n",
    "    possible_models.update({all_possible_pairs[i]: trained})\n",
    "    possible_pairs_train.update({all_possible_pairs[i]: X_train[:, all_possible_pairs[i]]})\n",
    "    possible_pairs_test.update({all_possible_pairs[i]: X_test[:, all_possible_pairs[i]]})\n",
    "    \n",
    "    if (n_gmdh_layers == 1):\n",
    "        prediction = trained.predict(X_test[:, all_possible_pairs[i]])\n",
    "        test_metric = MSE(y_test, prediction)[0]\n",
    "        \n",
    "        train_pred = trained.predict(X_train[:, all_possible_pairs[i]])\n",
    "        train_metric = MSE(y_train, train_pred)[0]\n",
    "        \n",
    "        all_metrics.append(test_metric)\n",
    "        all_train_metrics.append(train_metric)\n",
    "        W_vect = np.array([1.])\n",
    "    else:\n",
    "        W_vect = gmdh_pipeline_fit(possible_models, possible_pairs_train, y_train, possible_pairs_test, y_test)\n",
    "        prediction = gmdh_pipeline_predict(possible_models, possible_pairs_test, W_vect)\n",
    "        test_metric = MSE(y_test, prediction)[0]\n",
    "        \n",
    "        train_pred = gmdh_pipeline_predict(possible_models, possible_pairs_train, W_vect)\n",
    "        train_metric = MSE(y_train, train_pred)[0]\n",
    "        \n",
    "        all_metrics.append(test_metric)\n",
    "        all_train_metrics.append(train_metric)\n",
    "    i += 1\n",
    "    print(f\"{n_gmdh_layers} layers scored {test_metric}\")\n",
    "    print(f\"{n_gmdh_layers} layers scored train {train_metric}\")\n",
    "    \n",
    "    if (len(all_metrics) == 1 or (all_metrics[-1] < all_metrics[-2])) and (i<len(all_possible_pairs)):\n",
    "        do_hypersearh = True\n",
    "        best_test_pred = prediction\n",
    "        best_train_pred = train_pred\n",
    "    else:\n",
    "        do_hypersearh = False\n",
    "        best_W = W_vect\n",
    "        \n",
    "    n_gmdh_layers += 1"
   ]
  },
  {
   "cell_type": "markdown",
   "metadata": {},
   "source": [
    "# Predict and Visualise losses"
   ]
  },
  {
   "cell_type": "code",
   "execution_count": 5,
   "metadata": {},
   "outputs": [
    {
     "data": {
      "image/png": "[encoded data removed]",
      "text/plain": [
       "<Figure size 432x288 with 1 Axes>"
      ]
     },
     "metadata": {
      "needs_background": "light"
     },
     "output_type": "display_data"
    }
   ],
   "source": [
    "plt.title('GMDH Hypersearh val results')\n",
    "plt.plot(all_metrics)\n",
    "plt.xlabel('number of GMDH layers')\n",
    "plt.ylabel('Best validation loss')\n",
    "plt.show()"
   ]
  },
  {
   "cell_type": "code",
   "execution_count": 6,
   "metadata": {},
   "outputs": [
    {
     "data": {
      "image/png": "[encoded data removed]",
      "text/plain": [
       "<Figure size 432x288 with 1 Axes>"
      ]
     },
     "metadata": {
      "needs_background": "light"
     },
     "output_type": "display_data"
    }
   ],
   "source": [
    "plt.title('GMDH Hypersearh train results')\n",
    "plt.plot(all_train_metrics)\n",
    "plt.xlabel('number of GMDH layers')\n",
    "plt.ylabel('Best train loss')\n",
    "plt.show()"
   ]
  },
  {
   "cell_type": "code",
   "execution_count": 7,
   "metadata": {},
   "outputs": [
    {
     "name": "stdout",
     "output_type": "stream",
     "text": [
      "Test MSE: 2.191677026578003\n",
      "Train MSE: 3.8235822692053794\n"
     ]
    }
   ],
   "source": [
    "prediction = best_test_pred\n",
    "prediction_train = best_train_pred\n",
    "\n",
    "print(f\"Test MSE: {MSE(y_test, prediction)[0]}\")\n",
    "print(f\"Train MSE: {MSE(y_train, prediction_train)[0]}\")"
   ]
  },
  {
   "cell_type": "code",
   "execution_count": 8,
   "metadata": {},
   "outputs": [
    {
     "data": {
      "image/png": "[encoded data removed]",
      "text/plain": [
       "<Figure size 432x288 with 1 Axes>"
      ]
     },
     "metadata": {
      "needs_background": "light"
     },
     "output_type": "display_data"
    }
   ],
   "source": [
    "plt.title('Validation Target')\n",
    "plt.plot(prediction, label='prediction')\n",
    "plt.plot(y_test, label='ground truth')\n",
    "plt.legend()\n",
    "plt.show()"
   ]
  },
  {
   "cell_type": "code",
   "execution_count": 9,
   "metadata": {},
   "outputs": [
    {
     "data": {
      "image/png": "[encoded data removed]",
      "text/plain": [
       "<Figure size 432x288 with 1 Axes>"
      ]
     },
     "metadata": {
      "needs_background": "light"
     },
     "output_type": "display_data"
    },
    {
     "data": {
      "image/png": "[encoded data removed]",
      "text/plain": [
       "<Figure size 432x288 with 1 Axes>"
      ]
     },
     "metadata": {
      "needs_background": "light"
     },
     "output_type": "display_data"
    }
   ],
   "source": [
    "plt.title('Validation Prediction Distribution')\n",
    "plt.hist(prediction)\n",
    "plt.show()\n",
    "\n",
    "plt.title('Validation Target Distribution')\n",
    "plt.hist(y_test)\n",
    "plt.show()"
   ]
  },
  {
   "cell_type": "code",
   "execution_count": null,
   "metadata": {},
   "outputs": [],
   "source": []
  }
 ],
 "metadata": {
  "kernelspec": {
   "display_name": "Python 3",
   "language": "python",
   "name": "python3"
  },
  "language_info": {
   "codemirror_mode": {
    "name": "ipython",
    "version": 3
   },
   "file_extension": ".py",
   "mimetype": "text/x-python",
   "name": "python",
   "nbconvert_exporter": "python",
   "pygments_lexer": "ipython3",
   "version": "3.7.8"
  }
 },
 "nbformat": 4,
 "nbformat_minor": 4
}
