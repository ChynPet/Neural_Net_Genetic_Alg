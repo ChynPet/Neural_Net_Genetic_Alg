{
 "cells": [
  {
   "cell_type": "code",
   "execution_count": 21,
   "metadata": {},
   "outputs": [],
   "source": [
    "from copy import deepcopy\n",
    "from itertools import combinations\n",
    "import typing as tp\n",
    "\n",
    "import numpy as np\n",
    "import pandas as pd\n",
    "from numpy.linalg import lstsq\n",
    "from scipy.optimize import linprog\n",
    "\n",
    "from matplotlib import pyplot as plt\n",
    "from citk.layer import Dense, FuzzyGMDHLayer\n",
    "from citk.model import FFN, GMDH\n",
    "from citk.functions import ReLU, Linear, BellMembership, GaussianMembership, Poly\n",
    "from citk.losses import MSE, FMSE\n",
    "from citk.optimisers import SGDOptimizer, SimplexOptimizer\n",
    "\n",
    "from utils import get_and_process_boston_dataset, visualise_boston, seed_everything\n",
    "\n",
    "%matplotlib inline"
   ]
  },
  {
   "cell_type": "markdown",
   "metadata": {},
   "source": [
    "# Data"
   ]
  },
  {
   "cell_type": "code",
   "execution_count": 22,
   "metadata": {},
   "outputs": [
    {
     "data": {
      "image/png": "[encoded data removed]",
      "text/plain": [
       "<Figure size 432x288 with 1 Axes>"
      ]
     },
     "metadata": {
      "needs_background": "light"
     },
     "output_type": "display_data"
    },
    {
     "data": {
      "image/png": "[encoded data removed]",
      "text/plain": [
       "<Figure size 432x288 with 1 Axes>"
      ]
     },
     "metadata": {
      "needs_background": "light"
     },
     "output_type": "display_data"
    }
   ],
   "source": [
    "RANDOM_SEED = 42\n",
    "\n",
    "seed_everything(RANDOM_SEED)\n",
    "\n",
    "X_train, X_test, y_train, y_test = get_and_process_boston_dataset(random_state=RANDOM_SEED)\n",
    "\n",
    "visualise_boston(X_train, X_test, y_train, y_test)"
   ]
  },
  {
   "cell_type": "code",
   "execution_count": 23,
   "metadata": {},
   "outputs": [],
   "source": [
    "data = pd.read_csv('data.csv', encoding='cp1251', sep=';', decimal=',').dropna()"
   ]
  },
  {
   "cell_type": "code",
   "execution_count": 24,
   "metadata": {},
   "outputs": [],
   "source": [
    "from sklearn.model_selection import train_test_split"
   ]
  },
  {
   "cell_type": "code",
   "execution_count": 25,
   "metadata": {},
   "outputs": [],
   "source": [
    "X_train, X_test, y_train, y_test = train_test_split(data.iloc[:, :-1], data.iloc[:,-1], test_size=0.5)"
   ]
  },
  {
   "cell_type": "code",
   "execution_count": 26,
   "metadata": {},
   "outputs": [],
   "source": [
    "for col in X_train.columns:\n",
    "    for sh in range(1,7):\n",
    "        X_train[f'{col}_{sh}'] = X_train.shift(sh)[col]\n",
    "        X_test[f'{col}_{sh}'] = X_test.shift(sh)[col] \n",
    "for lag in range(1,7):\n",
    "    X_train[f'ІСЦ_{lag}'] = y_train.shift(lag)\n",
    "    X_test[f'ІСЦ_{lag}'] = y_test.shift(lag)"
   ]
  },
  {
   "cell_type": "code",
   "execution_count": 27,
   "metadata": {},
   "outputs": [],
   "source": [
    "X_train = X_train.dropna()\n",
    "X_test = X_test.dropna()"
   ]
  },
  {
   "cell_type": "code",
   "execution_count": 28,
   "metadata": {},
   "outputs": [
    {
     "data": {
      "text/html": [
       "<div>\n",
       "<style scoped>\n",
       "    .dataframe tbody tr th:only-of-type {\n",
       "        vertical-align: middle;\n",
       "    }\n",
       "\n",
       "    .dataframe tbody tr th {\n",
       "        vertical-align: top;\n",
       "    }\n",
       "\n",
       "    .dataframe thead th {\n",
       "        text-align: right;\n",
       "    }\n",
       "</style>\n",
       "<table border=\"1\" class=\"dataframe\">\n",
       "  <thead>\n",
       "    <tr style=\"text-align: right;\">\n",
       "      <th></th>\n",
       "      <th>НВВП1</th>\n",
       "      <th>ОПП</th>\n",
       "      <th>ІРПП</th>\n",
       "      <th>%ІСЦ</th>\n",
       "      <th>%ІОЦ</th>\n",
       "      <th>ДБ</th>\n",
       "      <th>М2</th>\n",
       "      <th>СР</th>\n",
       "      <th>РПСК</th>\n",
       "      <th>КНБУ</th>\n",
       "      <th>...</th>\n",
       "      <th>ОК_$_3</th>\n",
       "      <th>ОК_$_4</th>\n",
       "      <th>ОК_$_5</th>\n",
       "      <th>ОК_$_6</th>\n",
       "      <th>ІСЦ_1</th>\n",
       "      <th>ІСЦ_2</th>\n",
       "      <th>ІСЦ_3</th>\n",
       "      <th>ІСЦ_4</th>\n",
       "      <th>ІСЦ_5</th>\n",
       "      <th>ІСЦ_6</th>\n",
       "    </tr>\n",
       "  </thead>\n",
       "  <tbody>\n",
       "    <tr>\n",
       "      <th>35</th>\n",
       "      <td>9180</td>\n",
       "      <td>8004</td>\n",
       "      <td>41.1</td>\n",
       "      <td>1.0</td>\n",
       "      <td>0.4</td>\n",
       "      <td>3208.2</td>\n",
       "      <td>11946</td>\n",
       "      <td>60.0</td>\n",
       "      <td>4.6</td>\n",
       "      <td>15610</td>\n",
       "      <td>...</td>\n",
       "      <td>1.90909</td>\n",
       "      <td>3.92352</td>\n",
       "      <td>1.84190</td>\n",
       "      <td>1.83708</td>\n",
       "      <td>6.2</td>\n",
       "      <td>0.1</td>\n",
       "      <td>0.2</td>\n",
       "      <td>0.1</td>\n",
       "      <td>0.1</td>\n",
       "      <td>0.8</td>\n",
       "    </tr>\n",
       "    <tr>\n",
       "      <th>3</th>\n",
       "      <td>7209</td>\n",
       "      <td>5393</td>\n",
       "      <td>41.9</td>\n",
       "      <td>0.1</td>\n",
       "      <td>0.6</td>\n",
       "      <td>2733.0</td>\n",
       "      <td>6454</td>\n",
       "      <td>40.0</td>\n",
       "      <td>5.4</td>\n",
       "      <td>5283</td>\n",
       "      <td>...</td>\n",
       "      <td>1.81977</td>\n",
       "      <td>1.90909</td>\n",
       "      <td>3.92352</td>\n",
       "      <td>1.84190</td>\n",
       "      <td>2.3</td>\n",
       "      <td>6.2</td>\n",
       "      <td>0.1</td>\n",
       "      <td>0.2</td>\n",
       "      <td>0.1</td>\n",
       "      <td>0.1</td>\n",
       "    </tr>\n",
       "    <tr>\n",
       "      <th>34</th>\n",
       "      <td>7960</td>\n",
       "      <td>6905</td>\n",
       "      <td>40.8</td>\n",
       "      <td>1.0</td>\n",
       "      <td>1.1</td>\n",
       "      <td>2608.8</td>\n",
       "      <td>11756</td>\n",
       "      <td>60.0</td>\n",
       "      <td>3.8</td>\n",
       "      <td>15372</td>\n",
       "      <td>...</td>\n",
       "      <td>2.18321</td>\n",
       "      <td>1.81977</td>\n",
       "      <td>1.90909</td>\n",
       "      <td>3.92352</td>\n",
       "      <td>5.7</td>\n",
       "      <td>2.3</td>\n",
       "      <td>6.2</td>\n",
       "      <td>0.1</td>\n",
       "      <td>0.2</td>\n",
       "      <td>0.1</td>\n",
       "    </tr>\n",
       "    <tr>\n",
       "      <th>23</th>\n",
       "      <td>7501</td>\n",
       "      <td>6535</td>\n",
       "      <td>42.6</td>\n",
       "      <td>0.2</td>\n",
       "      <td>0.7</td>\n",
       "      <td>3115.3</td>\n",
       "      <td>10973</td>\n",
       "      <td>42.6</td>\n",
       "      <td>3.9</td>\n",
       "      <td>7755</td>\n",
       "      <td>...</td>\n",
       "      <td>3.65771</td>\n",
       "      <td>2.18321</td>\n",
       "      <td>1.81977</td>\n",
       "      <td>1.90909</td>\n",
       "      <td>1.0</td>\n",
       "      <td>5.7</td>\n",
       "      <td>2.3</td>\n",
       "      <td>6.2</td>\n",
       "      <td>0.1</td>\n",
       "      <td>0.2</td>\n",
       "    </tr>\n",
       "    <tr>\n",
       "      <th>31</th>\n",
       "      <td>9905</td>\n",
       "      <td>7387</td>\n",
       "      <td>38.4</td>\n",
       "      <td>3.0</td>\n",
       "      <td>3.5</td>\n",
       "      <td>3311.5</td>\n",
       "      <td>11366</td>\n",
       "      <td>82.0</td>\n",
       "      <td>2.2</td>\n",
       "      <td>14230</td>\n",
       "      <td>...</td>\n",
       "      <td>1.78084</td>\n",
       "      <td>3.65771</td>\n",
       "      <td>2.18321</td>\n",
       "      <td>1.81977</td>\n",
       "      <td>1.3</td>\n",
       "      <td>1.0</td>\n",
       "      <td>5.7</td>\n",
       "      <td>2.3</td>\n",
       "      <td>6.2</td>\n",
       "      <td>0.1</td>\n",
       "    </tr>\n",
       "    <tr>\n",
       "      <th>10</th>\n",
       "      <td>6107</td>\n",
       "      <td>5076</td>\n",
       "      <td>42.0</td>\n",
       "      <td>1.2</td>\n",
       "      <td>0.4</td>\n",
       "      <td>2047.4</td>\n",
       "      <td>7599</td>\n",
       "      <td>35.0</td>\n",
       "      <td>4.0</td>\n",
       "      <td>5734</td>\n",
       "      <td>...</td>\n",
       "      <td>3.47086</td>\n",
       "      <td>1.78084</td>\n",
       "      <td>3.65771</td>\n",
       "      <td>2.18321</td>\n",
       "      <td>3.3</td>\n",
       "      <td>1.3</td>\n",
       "      <td>1.0</td>\n",
       "      <td>5.7</td>\n",
       "      <td>2.3</td>\n",
       "      <td>6.2</td>\n",
       "    </tr>\n",
       "    <tr>\n",
       "      <th>22</th>\n",
       "      <td>6511</td>\n",
       "      <td>5466</td>\n",
       "      <td>42.4</td>\n",
       "      <td>0.2</td>\n",
       "      <td>0.9</td>\n",
       "      <td>2267.1</td>\n",
       "      <td>10166</td>\n",
       "      <td>42.4</td>\n",
       "      <td>3.9</td>\n",
       "      <td>7479</td>\n",
       "      <td>...</td>\n",
       "      <td>2.03402</td>\n",
       "      <td>3.47086</td>\n",
       "      <td>1.78084</td>\n",
       "      <td>3.65771</td>\n",
       "      <td>0.1</td>\n",
       "      <td>3.3</td>\n",
       "      <td>1.3</td>\n",
       "      <td>1.0</td>\n",
       "      <td>5.7</td>\n",
       "      <td>2.3</td>\n",
       "    </tr>\n",
       "    <tr>\n",
       "      <th>18</th>\n",
       "      <td>8847</td>\n",
       "      <td>6581</td>\n",
       "      <td>41.7</td>\n",
       "      <td>0.9</td>\n",
       "      <td>1.1</td>\n",
       "      <td>3458.4</td>\n",
       "      <td>10123</td>\n",
       "      <td>16.0</td>\n",
       "      <td>2.3</td>\n",
       "      <td>6199</td>\n",
       "      <td>...</td>\n",
       "      <td>3.42722</td>\n",
       "      <td>2.03402</td>\n",
       "      <td>3.47086</td>\n",
       "      <td>1.78084</td>\n",
       "      <td>0.2</td>\n",
       "      <td>0.1</td>\n",
       "      <td>3.3</td>\n",
       "      <td>1.3</td>\n",
       "      <td>1.0</td>\n",
       "      <td>5.7</td>\n",
       "    </tr>\n",
       "    <tr>\n",
       "      <th>20</th>\n",
       "      <td>10683</td>\n",
       "      <td>5860</td>\n",
       "      <td>41.7</td>\n",
       "      <td>1.4</td>\n",
       "      <td>0.5</td>\n",
       "      <td>4636.9</td>\n",
       "      <td>10775</td>\n",
       "      <td>35.0</td>\n",
       "      <td>2.1</td>\n",
       "      <td>7142</td>\n",
       "      <td>...</td>\n",
       "      <td>1.84364</td>\n",
       "      <td>3.42722</td>\n",
       "      <td>2.03402</td>\n",
       "      <td>3.47086</td>\n",
       "      <td>0.9</td>\n",
       "      <td>0.2</td>\n",
       "      <td>0.1</td>\n",
       "      <td>3.3</td>\n",
       "      <td>1.3</td>\n",
       "      <td>1.0</td>\n",
       "    </tr>\n",
       "    <tr>\n",
       "      <th>7</th>\n",
       "      <td>7529</td>\n",
       "      <td>5652</td>\n",
       "      <td>42.4</td>\n",
       "      <td>1.2</td>\n",
       "      <td>1.2</td>\n",
       "      <td>2853.6</td>\n",
       "      <td>6443</td>\n",
       "      <td>40.0</td>\n",
       "      <td>4.3</td>\n",
       "      <td>5927</td>\n",
       "      <td>...</td>\n",
       "      <td>1.95656</td>\n",
       "      <td>1.84364</td>\n",
       "      <td>3.42722</td>\n",
       "      <td>2.03402</td>\n",
       "      <td>1.3</td>\n",
       "      <td>0.9</td>\n",
       "      <td>0.2</td>\n",
       "      <td>0.1</td>\n",
       "      <td>3.3</td>\n",
       "      <td>1.3</td>\n",
       "    </tr>\n",
       "    <tr>\n",
       "      <th>14</th>\n",
       "      <td>6517</td>\n",
       "      <td>5321</td>\n",
       "      <td>41.5</td>\n",
       "      <td>0.1</td>\n",
       "      <td>0.4</td>\n",
       "      <td>2905.8</td>\n",
       "      <td>9279</td>\n",
       "      <td>21.0</td>\n",
       "      <td>4.1</td>\n",
       "      <td>6101</td>\n",
       "      <td>...</td>\n",
       "      <td>1.87129</td>\n",
       "      <td>1.95656</td>\n",
       "      <td>1.84364</td>\n",
       "      <td>3.42722</td>\n",
       "      <td>0.9</td>\n",
       "      <td>1.3</td>\n",
       "      <td>0.9</td>\n",
       "      <td>0.2</td>\n",
       "      <td>0.1</td>\n",
       "      <td>3.3</td>\n",
       "    </tr>\n",
       "    <tr>\n",
       "      <th>28</th>\n",
       "      <td>8594</td>\n",
       "      <td>5882</td>\n",
       "      <td>41.9</td>\n",
       "      <td>0.2</td>\n",
       "      <td>1.2</td>\n",
       "      <td>2861.2</td>\n",
       "      <td>11142</td>\n",
       "      <td>82.0</td>\n",
       "      <td>4.6</td>\n",
       "      <td>11888</td>\n",
       "      <td>...</td>\n",
       "      <td>1.89503</td>\n",
       "      <td>1.87129</td>\n",
       "      <td>1.95656</td>\n",
       "      <td>1.84364</td>\n",
       "      <td>0.1</td>\n",
       "      <td>0.9</td>\n",
       "      <td>1.3</td>\n",
       "      <td>0.9</td>\n",
       "      <td>0.2</td>\n",
       "      <td>0.1</td>\n",
       "    </tr>\n",
       "    <tr>\n",
       "      <th>38</th>\n",
       "      <td>10027</td>\n",
       "      <td>7869</td>\n",
       "      <td>43.4</td>\n",
       "      <td>0.1</td>\n",
       "      <td>0.8</td>\n",
       "      <td>3421.9</td>\n",
       "      <td>12269</td>\n",
       "      <td>45.0</td>\n",
       "      <td>3.8</td>\n",
       "      <td>17720</td>\n",
       "      <td>...</td>\n",
       "      <td>1.85917</td>\n",
       "      <td>1.89503</td>\n",
       "      <td>1.87129</td>\n",
       "      <td>1.95656</td>\n",
       "      <td>3.8</td>\n",
       "      <td>0.1</td>\n",
       "      <td>0.9</td>\n",
       "      <td>1.3</td>\n",
       "      <td>0.9</td>\n",
       "      <td>0.2</td>\n",
       "    </tr>\n",
       "  </tbody>\n",
       "</table>\n",
       "<p>13 rows × 104 columns</p>\n",
       "</div>"
      ],
      "text/plain": [
       "    НВВП1   ОПП  ІРПП  %ІСЦ  %ІОЦ      ДБ     М2    СР  РПСК   КНБУ  ...  \\\n",
       "35   9180  8004  41.1   1.0   0.4  3208.2  11946  60.0   4.6  15610  ...   \n",
       "3    7209  5393  41.9   0.1   0.6  2733.0   6454  40.0   5.4   5283  ...   \n",
       "34   7960  6905  40.8   1.0   1.1  2608.8  11756  60.0   3.8  15372  ...   \n",
       "23   7501  6535  42.6   0.2   0.7  3115.3  10973  42.6   3.9   7755  ...   \n",
       "31   9905  7387  38.4   3.0   3.5  3311.5  11366  82.0   2.2  14230  ...   \n",
       "10   6107  5076  42.0   1.2   0.4  2047.4   7599  35.0   4.0   5734  ...   \n",
       "22   6511  5466  42.4   0.2   0.9  2267.1  10166  42.4   3.9   7479  ...   \n",
       "18   8847  6581  41.7   0.9   1.1  3458.4  10123  16.0   2.3   6199  ...   \n",
       "20  10683  5860  41.7   1.4   0.5  4636.9  10775  35.0   2.1   7142  ...   \n",
       "7    7529  5652  42.4   1.2   1.2  2853.6   6443  40.0   4.3   5927  ...   \n",
       "14   6517  5321  41.5   0.1   0.4  2905.8   9279  21.0   4.1   6101  ...   \n",
       "28   8594  5882  41.9   0.2   1.2  2861.2  11142  82.0   4.6  11888  ...   \n",
       "38  10027  7869  43.4   0.1   0.8  3421.9  12269  45.0   3.8  17720  ...   \n",
       "\n",
       "     ОК_$_3   ОК_$_4   ОК_$_5   ОК_$_6  ІСЦ_1  ІСЦ_2  ІСЦ_3  ІСЦ_4  ІСЦ_5  \\\n",
       "35  1.90909  3.92352  1.84190  1.83708    6.2    0.1    0.2    0.1    0.1   \n",
       "3   1.81977  1.90909  3.92352  1.84190    2.3    6.2    0.1    0.2    0.1   \n",
       "34  2.18321  1.81977  1.90909  3.92352    5.7    2.3    6.2    0.1    0.2   \n",
       "23  3.65771  2.18321  1.81977  1.90909    1.0    5.7    2.3    6.2    0.1   \n",
       "31  1.78084  3.65771  2.18321  1.81977    1.3    1.0    5.7    2.3    6.2   \n",
       "10  3.47086  1.78084  3.65771  2.18321    3.3    1.3    1.0    5.7    2.3   \n",
       "22  2.03402  3.47086  1.78084  3.65771    0.1    3.3    1.3    1.0    5.7   \n",
       "18  3.42722  2.03402  3.47086  1.78084    0.2    0.1    3.3    1.3    1.0   \n",
       "20  1.84364  3.42722  2.03402  3.47086    0.9    0.2    0.1    3.3    1.3   \n",
       "7   1.95656  1.84364  3.42722  2.03402    1.3    0.9    0.2    0.1    3.3   \n",
       "14  1.87129  1.95656  1.84364  3.42722    0.9    1.3    0.9    0.2    0.1   \n",
       "28  1.89503  1.87129  1.95656  1.84364    0.1    0.9    1.3    0.9    0.2   \n",
       "38  1.85917  1.89503  1.87129  1.95656    3.8    0.1    0.9    1.3    0.9   \n",
       "\n",
       "    ІСЦ_6  \n",
       "35    0.8  \n",
       "3     0.1  \n",
       "34    0.1  \n",
       "23    0.2  \n",
       "31    0.1  \n",
       "10    6.2  \n",
       "22    2.3  \n",
       "18    5.7  \n",
       "20    1.0  \n",
       "7     1.3  \n",
       "14    3.3  \n",
       "28    0.1  \n",
       "38    0.2  \n",
       "\n",
       "[13 rows x 104 columns]"
      ]
     },
     "execution_count": 28,
     "metadata": {},
     "output_type": "execute_result"
    }
   ],
   "source": [
    "X_train"
   ]
  },
  {
   "cell_type": "markdown",
   "metadata": {},
   "source": [
    "# GMDH Hypersearh"
   ]
  },
  {
   "cell_type": "markdown",
   "metadata": {},
   "source": [
    "## Possible architectures\n",
    "\n",
    "If we have one GMDH layer - GMDH -> Dense\n",
    "\n",
    "If we have two or more GMDH layers - ( GMDH -> Dense (F - outputs) ) * (N_GMDH_layers-1) -> GMDH -> Dense"
   ]
  },
  {
   "cell_type": "code",
   "execution_count": 29,
   "metadata": {},
   "outputs": [],
   "source": [
    "model = GMDH(\n",
    "        input_shape=X_train.shape[0], \n",
    "        method_type='fuzzy', \n",
    "        poli_type='partial_quadratic',\n",
    "        loss=MSE, \n",
    "        confidence=0.9,\n",
    "        reg_coef=0.01\n",
    "    )"
   ]
  },
  {
   "cell_type": "code",
   "execution_count": 30,
   "metadata": {},
   "outputs": [],
   "source": [
    "X_train = X_train.values\n",
    "X_test = X_test.values\n",
    "y_train = y_train.values\n",
    "y_test = y_test.values"
   ]
  },
  {
   "cell_type": "code",
   "execution_count": 31,
   "metadata": {},
   "outputs": [],
   "source": [
    "def gmdh_pipeline_predict(models: tp.Dict[tp.Tuple[int], GMDH], \n",
    "                  inputs: tp.Dict[tp.Tuple[int], np.ndarray],\n",
    "                  model_weights: np.ndarray) -> np.ndarray:\n",
    "    outputs = []\n",
    "    for i, (k, model) in enumerate(models.items()):\n",
    "        predicted = model_weights[i] * model.predict(inputs[k]).ravel()\n",
    "        outputs.append(predicted)\n",
    "    outputs = np.array(outputs).T\n",
    "    return np.sum(outputs, axis=1)[..., np.newaxis]\n",
    "\n",
    "def gmdh_pipeline_fit(models: tp.Dict[tp.Tuple[int], GMDH], \n",
    "                  inputs_train: tp.Dict[tp.Tuple[int], np.ndarray],\n",
    "                  outputs_train: np.ndarray,\n",
    "                  inputs_val: tp.Dict[tp.Tuple[int], np.ndarray],\n",
    "                  outputs_val: np.ndarray) -> np.ndarray:\n",
    "    outputs_partial_train = []\n",
    "    outputs_partial_test = []\n",
    "    for k, model in models.items():\n",
    "        predicted_train = model.predict(inputs_train[k]).ravel()\n",
    "        outputs_partial_train.append(predicted_train)\n",
    "        predicted_test = model.predict(inputs_val[k]).ravel()\n",
    "        outputs_partial_test.append(predicted_test)\n",
    "    outputs_partial_train = np.array(outputs_partial_train).T\n",
    "    outputs_partial_test = np.array(outputs_partial_test).T\n",
    "    W_vect = lstsq(outputs_partial_train, outputs_train.ravel())\n",
    "    return W_vect[0]"
   ]
  },
  {
   "cell_type": "code",
   "execution_count": 32,
   "metadata": {},
   "outputs": [],
   "source": [
    "y_train = y_train[6:][..., np.newaxis]\n",
    "y_test = y_test[6:][..., np.newaxis]"
   ]
  },
  {
   "cell_type": "code",
   "execution_count": 49,
   "metadata": {
    "scrolled": false
   },
   "outputs": [
    {
     "name": "stdout",
     "output_type": "stream",
     "text": [
      "Partial model structure: {'parser': <citk.layer.WeightsParser object at 0x0000023D21BE25B0>, '_method_type': ('fuzzy',), '_poli_type': 'partial_quadratic', '_confidence': 0.9, 'layer_specs': [<citk.layer.FuzzyGMDHLayer object at 0x0000023D21BE2310>], 'regularization': 'l2', 'reg_coef': 0.01, '_loss': <function FMSE at 0x0000023D214AD430>, 'W_vect': array([0.06715473, 0.08928569, 0.20026452, 0.04001149, 0.03217875,\n",
      "       0.02626444, 0.08675965, 0.09970799])}\n"
     ]
    },
    {
     "data": {
      "application/vnd.jupyter.widget-view+json": {
       "model_id": "edd6276c5c79496d9001620c4d09b512",
       "version_major": 2,
       "version_minor": 0
      },
      "text/plain": [
       "HBox(children=(FloatProgress(value=0.0, description='Training ', max=1000.0, style=ProgressStyle(description_w…"
      ]
     },
     "metadata": {},
     "output_type": "display_data"
    },
    {
     "name": "stdout",
     "output_type": "stream",
     "text": [
      "\n",
      "1 layers scored 1.0857867865993187\n",
      "Partial model structure: {'parser': <citk.layer.WeightsParser object at 0x0000023D7FEDC970>, '_method_type': ('fuzzy',), '_poli_type': 'partial_quadratic', '_confidence': 0.9, 'layer_specs': [<citk.layer.FuzzyGMDHLayer object at 0x0000023D7FEDC310>], 'regularization': 'l2', 'reg_coef': 0.01, '_loss': <function FMSE at 0x0000023D214AD430>, 'W_vect': array([0.06715473, 0.08928569, 0.20026452, 0.04001149, 0.03217875,\n",
      "       0.02626444, 0.08675965, 0.09970799])}\n"
     ]
    },
    {
     "data": {
      "application/vnd.jupyter.widget-view+json": {
       "model_id": "af21a3074da94de0a8a2e397f45b6e05",
       "version_major": 2,
       "version_minor": 0
      },
      "text/plain": [
       "HBox(children=(FloatProgress(value=0.0, description='Training ', max=1000.0, style=ProgressStyle(description_w…"
      ]
     },
     "metadata": {},
     "output_type": "display_data"
    },
    {
     "name": "stdout",
     "output_type": "stream",
     "text": [
      "\n",
      "2 layers scored 0.8968348109842577\n",
      "Partial model structure: {'parser': <citk.layer.WeightsParser object at 0x0000023D241C06A0>, '_method_type': ('fuzzy',), '_poli_type': 'partial_quadratic', '_confidence': 0.9, 'layer_specs': [<citk.layer.FuzzyGMDHLayer object at 0x0000023D241C0FA0>], 'regularization': 'l2', 'reg_coef': 0.01, '_loss': <function FMSE at 0x0000023D214AD430>, 'W_vect': array([0.06715473, 0.08928569, 0.20026452, 0.04001149, 0.03217875,\n",
      "       0.02626444, 0.08675965, 0.09970799])}\n"
     ]
    },
    {
     "name": "stderr",
     "output_type": "stream",
     "text": [
      "<ipython-input-31-8d1e0d1a6a6a>:25: FutureWarning: `rcond` parameter will change to the default of machine precision times ``max(M, N)`` where M and N are the input matrix dimensions.\n",
      "To use the future default and silence this warning we advise to pass `rcond=None`, to keep using the old, explicitly pass `rcond=-1`.\n",
      "  W_vect = lstsq(outputs_partial_train, outputs_train.ravel())\n"
     ]
    },
    {
     "data": {
      "application/vnd.jupyter.widget-view+json": {
       "model_id": "a2a59be569e9440990c855e1a4c76ea3",
       "version_major": 2,
       "version_minor": 0
      },
      "text/plain": [
       "HBox(children=(FloatProgress(value=0.0, description='Training ', max=1000.0, style=ProgressStyle(description_w…"
      ]
     },
     "metadata": {},
     "output_type": "display_data"
    },
    {
     "name": "stdout",
     "output_type": "stream",
     "text": [
      "\n",
      "3 layers scored 0.9767700081874967\n"
     ]
    }
   ],
   "source": [
    "do_hypersearh = True\n",
    "n_gmdh_layers = 1\n",
    "best_activations = 16\n",
    "all_metrics = []\n",
    "best_model = None\n",
    "best_history = None\n",
    "\n",
    "all_possible_pairs = list(combinations(range(X_train.shape[1]),2))[::-2][:100]\n",
    "possible_models = dict()\n",
    "possible_pairs_train = dict()\n",
    "possible_pairs_test = dict()\n",
    "best_W = None\n",
    "\n",
    "i = 0\n",
    "while do_hypersearh:\n",
    "    partial_model = GMDH(\n",
    "                        input_shape=len(all_possible_pairs[i]), \n",
    "                        method_type='fuzzy', \n",
    "                        poli_type='partial_quadratic',\n",
    "                        loss=FMSE, \n",
    "                        confidence=0.9,\n",
    "                        reg_coef=0.01\n",
    "                    )\n",
    "    print(f\"Partial model structure: {partial_model.__dict__}\")\n",
    "    \n",
    "    trained, history = partial_model.fit(\n",
    "        train_sample=(X_train[:, all_possible_pairs[i]], y_train),\n",
    "        validation_sample=(X_test[:, all_possible_pairs[i]], y_test),\n",
    "        optimiser=SimplexOptimizer(alpha=0.01, eta=0.005),\n",
    "        batch_size=16,\n",
    "        epochs=1000,\n",
    "        verbose=False\n",
    "    )\n",
    "    possible_models.update({all_possible_pairs[i]: trained})\n",
    "    possible_pairs_train.update({all_possible_pairs[i]: X_train[:, all_possible_pairs[i]]})\n",
    "    possible_pairs_test.update({all_possible_pairs[i]: X_test[:, all_possible_pairs[i]]})\n",
    "    \n",
    "    if (n_gmdh_layers == 1):\n",
    "        prediction = trained.predict(X_test[:, all_possible_pairs[i]])\n",
    "        test_metric = MSE(y_test, prediction)[0]\n",
    "        all_metrics.append(test_metric)\n",
    "        W_vect = np.array([1.])\n",
    "    else:\n",
    "        W_vect = gmdh_pipeline_fit(possible_models, possible_pairs_train, y_train, possible_pairs_test, y_test)\n",
    "        prediction = gmdh_pipeline_predict(possible_models, possible_pairs_test, W_vect)\n",
    "        test_metric = MSE(y_test, prediction)[0]\n",
    "        all_metrics.append(test_metric)\n",
    "    i += 1\n",
    "    print(f\"{n_gmdh_layers} layers scored {test_metric}\")\n",
    "    \n",
    "    if (len(all_metrics) == 1 or (all_metrics[-1] < all_metrics[-2]+0.01)) and (i<len(all_possible_pairs)):\n",
    "        do_hypersearh = True\n",
    "    else:\n",
    "        do_hypersearh = False\n",
    "        best_W = W_vect\n",
    "        \n",
    "    n_gmdh_layers += 1"
   ]
  },
  {
   "cell_type": "markdown",
   "metadata": {},
   "source": [
    "# Predict and Visualise losses"
   ]
  },
  {
   "cell_type": "code",
   "execution_count": 41,
   "metadata": {},
   "outputs": [
    {
     "data": {
      "image/png": "[encoded data removed]",
      "text/plain": [
       "<Figure size 432x288 with 1 Axes>"
      ]
     },
     "metadata": {
      "needs_background": "light"
     },
     "output_type": "display_data"
    }
   ],
   "source": [
    "plt.title('GMDH Hypersearh results')\n",
    "plt.plot(all_metrics)\n",
    "plt.xlabel('number of GMDH layers')\n",
    "plt.ylabel('Best validation loss')\n",
    "plt.show()"
   ]
  },
  {
   "cell_type": "code",
   "execution_count": 46,
   "metadata": {},
   "outputs": [
    {
     "name": "stdout",
     "output_type": "stream",
     "text": [
      "Test MSE: 0.27801953606916\n",
      "Train MSE: 0.47181171083458373\n"
     ]
    }
   ],
   "source": [
    "prediction = gmdh_pipeline_predict(possible_models, possible_pairs_test, best_W)\n",
    "prediction_train = gmdh_pipeline_predict(possible_models, possible_pairs_train, best_W)\n",
    "\n",
    "print(f\"Test MSE: {MSE(y_test, prediction)[0]}\")\n",
    "print(f\"Train MSE: {MSE(y_train, prediction_train)[0]}\")"
   ]
  },
  {
   "cell_type": "code",
   "execution_count": 45,
   "metadata": {},
   "outputs": [
    {
     "data": {
      "image/png": "[encoded data removed]",
      "text/plain": [
       "<Figure size 432x288 with 1 Axes>"
      ]
     },
     "metadata": {
      "needs_background": "light"
     },
     "output_type": "display_data"
    }
   ],
   "source": [
    "plt.title('Validation Target')\n",
    "plt.plot(prediction, label='prediction')\n",
    "plt.plot(y_test, label='ground truth')\n",
    "plt.legend()\n",
    "plt.show()"
   ]
  },
  {
   "cell_type": "code",
   "execution_count": 47,
   "metadata": {},
   "outputs": [
    {
     "data": {
      "image/png": "[encoded data removed]",
      "text/plain": [
       "<Figure size 432x288 with 1 Axes>"
      ]
     },
     "metadata": {
      "needs_background": "light"
     },
     "output_type": "display_data"
    },
    {
     "data": {
      "image/png": "[encoded data removed]",
      "text/plain": [
       "<Figure size 432x288 with 1 Axes>"
      ]
     },
     "metadata": {
      "needs_background": "light"
     },
     "output_type": "display_data"
    }
   ],
   "source": [
    "plt.title('Validation Prediction Distribution')\n",
    "plt.hist(prediction)\n",
    "plt.show()\n",
    "\n",
    "plt.title('Validation Target Distribution')\n",
    "plt.hist(y_test)\n",
    "plt.show()"
   ]
  },
  {
   "cell_type": "code",
   "execution_count": null,
   "metadata": {},
   "outputs": [],
   "source": []
  }
 ],
 "metadata": {
  "kernelspec": {
   "display_name": "Python 3",
   "language": "python",
   "name": "python3"
  },
  "language_info": {
   "codemirror_mode": {
    "name": "ipython",
    "version": 3
   },
   "file_extension": ".py",
   "mimetype": "text/x-python",
   "name": "python",
   "nbconvert_exporter": "python",
   "pygments_lexer": "ipython3",
   "version": "3.8.5"
  }
 },
 "nbformat": 4,
 "nbformat_minor": 4
}
