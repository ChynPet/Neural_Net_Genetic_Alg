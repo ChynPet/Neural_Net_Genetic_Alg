{
 "cells": [
  {
   "cell_type": "code",
   "execution_count": 1,
   "metadata": {},
   "outputs": [
    {
     "name": "stderr",
     "output_type": "stream",
     "text": [
      "In /home/vsydorskyi/anaconda3/envs/venv/lib/python3.7/site-packages/matplotlib/mpl-data/stylelib/_classic_test.mplstyle: \n",
      "The text.latex.preview rcparam was deprecated in Matplotlib 3.3 and will be removed two minor releases later.\n",
      "In /home/vsydorskyi/anaconda3/envs/venv/lib/python3.7/site-packages/matplotlib/mpl-data/stylelib/_classic_test.mplstyle: \n",
      "The mathtext.fallback_to_cm rcparam was deprecated in Matplotlib 3.3 and will be removed two minor releases later.\n",
      "In /home/vsydorskyi/anaconda3/envs/venv/lib/python3.7/site-packages/matplotlib/mpl-data/stylelib/_classic_test.mplstyle: Support for setting the 'mathtext.fallback_to_cm' rcParam is deprecated since 3.3 and will be removed two minor releases later; use 'mathtext.fallback : 'cm' instead.\n",
      "In /home/vsydorskyi/anaconda3/envs/venv/lib/python3.7/site-packages/matplotlib/mpl-data/stylelib/_classic_test.mplstyle: \n",
      "The validate_bool_maybe_none function was deprecated in Matplotlib 3.3 and will be removed two minor releases later.\n",
      "In /home/vsydorskyi/anaconda3/envs/venv/lib/python3.7/site-packages/matplotlib/mpl-data/stylelib/_classic_test.mplstyle: \n",
      "The savefig.jpeg_quality rcparam was deprecated in Matplotlib 3.3 and will be removed two minor releases later.\n",
      "In /home/vsydorskyi/anaconda3/envs/venv/lib/python3.7/site-packages/matplotlib/mpl-data/stylelib/_classic_test.mplstyle: \n",
      "The keymap.all_axes rcparam was deprecated in Matplotlib 3.3 and will be removed two minor releases later.\n",
      "In /home/vsydorskyi/anaconda3/envs/venv/lib/python3.7/site-packages/matplotlib/mpl-data/stylelib/_classic_test.mplstyle: \n",
      "The animation.avconv_path rcparam was deprecated in Matplotlib 3.3 and will be removed two minor releases later.\n",
      "In /home/vsydorskyi/anaconda3/envs/venv/lib/python3.7/site-packages/matplotlib/mpl-data/stylelib/_classic_test.mplstyle: \n",
      "The animation.avconv_args rcparam was deprecated in Matplotlib 3.3 and will be removed two minor releases later.\n"
     ]
    }
   ],
   "source": [
    "from copy import deepcopy\n",
    "from itertools import combinations\n",
    "import typing as tp\n",
    "\n",
    "import numpy as np\n",
    "import pandas as pd\n",
    "from numpy.linalg import lstsq\n",
    "from scipy.optimize import linprog\n",
    "\n",
    "from matplotlib import pyplot as plt\n",
    "from citk.layer import Dense, FuzzyGMDHLayer\n",
    "from citk.model import FFN, GMDH\n",
    "from citk.functions import ReLU, Linear, BellMembership, GaussianMembership, Poly\n",
    "from citk.losses import MSE, FMSE\n",
    "from citk.optimisers import SGDOptimizer, SimplexOptimizer\n",
    "\n",
    "from utils import get_and_process_boston_dataset, visualise_boston, seed_everything\n",
    "\n",
    "%matplotlib inline"
   ]
  },
  {
   "cell_type": "markdown",
   "metadata": {},
   "source": [
    "# Data"
   ]
  },
  {
   "cell_type": "code",
   "execution_count": 2,
   "metadata": {},
   "outputs": [
    {
     "data": {
      "image/png": "[encoded data removed]",
      "text/plain": [
       "<Figure size 432x288 with 1 Axes>"
      ]
     },
     "metadata": {
      "needs_background": "light"
     },
     "output_type": "display_data"
    },
    {
     "data": {
      "image/png": "[encoded data removed]",
      "text/plain": [
       "<Figure size 432x288 with 1 Axes>"
      ]
     },
     "metadata": {
      "needs_background": "light"
     },
     "output_type": "display_data"
    }
   ],
   "source": [
    "RANDOM_SEED = 42\n",
    "\n",
    "seed_everything(RANDOM_SEED)\n",
    "\n",
    "X_train, X_test, y_train, y_test = get_and_process_boston_dataset(random_state=RANDOM_SEED)\n",
    "\n",
    "visualise_boston(X_train, X_test, y_train, y_test)"
   ]
  },
  {
   "cell_type": "markdown",
   "metadata": {},
   "source": [
    "# GMDH "
   ]
  },
  {
   "cell_type": "code",
   "execution_count": 3,
   "metadata": {},
   "outputs": [],
   "source": [
    "model = GMDH(\n",
    "            method_type='fuzzy', \n",
    "            poli_type='partial_quadratic',\n",
    "            loss=MSE, \n",
    "            confidence=0.9,\n",
    "        )"
   ]
  },
  {
   "cell_type": "code",
   "execution_count": 4,
   "metadata": {},
   "outputs": [
    {
     "data": {
      "application/vnd.jupyter.widget-view+json": {
       "model_id": "dd5b2b481b6f4e569428e2113fd804c7",
       "version_major": 2,
       "version_minor": 0
      },
      "text/plain": [
       "HBox(children=(FloatProgress(value=0.0, description='Training ', max=20.0, style=ProgressStyle(description_wid…"
      ]
     },
     "metadata": {},
     "output_type": "display_data"
    },
    {
     "data": {
      "application/vnd.jupyter.widget-view+json": {
       "model_id": "9b8ccbcd84d74cbdb65db572d2ea38af",
       "version_major": 2,
       "version_minor": 0
      },
      "text/plain": [
       "HBox(children=(FloatProgress(value=0.0, description='One fit', max=78.0, style=ProgressStyle(description_width…"
      ]
     },
     "metadata": {},
     "output_type": "display_data"
    },
    {
     "name": "stderr",
     "output_type": "stream",
     "text": [
      "/home/vsydorskyi/anaconda3/envs/venv/lib/python3.7/site-packages/scipy/optimize/_linprog.py:514: OptimizeWarning: x0 is used only when method is 'revised simplex'. \n",
      "  warn(warning_message, OptimizeWarning)\n",
      "/home/vsydorskyi/src/Neural_Net_Genetic_Alg/citk/utils.py:96: OptimizeWarning: Solving system with option 'cholesky':True failed. It is normal for this to happen occasionally, especially as the solution is approached. However, if you see this frequently, consider setting option 'cholesky' to False.\n",
      "  lp = linprog(obj_w, ineq_A, ineq_y, bounds=bounds, method='interior-point', x0=initial_x)\n",
      "/home/vsydorskyi/src/Neural_Net_Genetic_Alg/citk/utils.py:96: OptimizeWarning: Solving system with option 'sym_pos':True failed. It is normal for this to happen occasionally, especially as the solution is approached. However, if you see this frequently, consider setting option 'sym_pos' to False.\n",
      "  lp = linprog(obj_w, ineq_A, ineq_y, bounds=bounds, method='interior-point', x0=initial_x)\n",
      "/home/vsydorskyi/anaconda3/envs/venv/lib/python3.7/site-packages/scipy/optimize/_linprog_ip.py:110: LinAlgWarning: Ill-conditioned matrix (rcond=1.22617e-37): result may not be accurate.\n",
      "  return sp.linalg.solve(M, r, sym_pos=sym_pos)\n",
      "/home/vsydorskyi/anaconda3/envs/venv/lib/python3.7/site-packages/scipy/optimize/_linprog_ip.py:110: LinAlgWarning: Ill-conditioned matrix (rcond=4.01302e-19): result may not be accurate.\n",
      "  return sp.linalg.solve(M, r, sym_pos=sym_pos)\n"
     ]
    },
    {
     "name": "stdout",
     "output_type": "stream",
     "text": [
      "\n",
      "Layer: 0. Metric: 0.9710134637835535\n"
     ]
    },
    {
     "data": {
      "application/vnd.jupyter.widget-view+json": {
       "model_id": "a39cebdb4b68433b9e91989ec4741357",
       "version_major": 2,
       "version_minor": 0
      },
      "text/plain": [
       "HBox(children=(FloatProgress(value=0.0, description='One fit', max=190.0, style=ProgressStyle(description_widt…"
      ]
     },
     "metadata": {},
     "output_type": "display_data"
    },
    {
     "name": "stdout",
     "output_type": "stream",
     "text": [
      "\n",
      "Layer: 1. Metric: 0.7555686594888832\n"
     ]
    },
    {
     "data": {
      "application/vnd.jupyter.widget-view+json": {
       "model_id": "ff46e59e417e4202a6000182ffaffe72",
       "version_major": 2,
       "version_minor": 0
      },
      "text/plain": [
       "HBox(children=(FloatProgress(value=0.0, description='One fit', max=190.0, style=ProgressStyle(description_widt…"
      ]
     },
     "metadata": {},
     "output_type": "display_data"
    },
    {
     "name": "stdout",
     "output_type": "stream",
     "text": [
      "\n",
      "Layer: 2. Metric: 0.5880612778890367\n"
     ]
    },
    {
     "data": {
      "application/vnd.jupyter.widget-view+json": {
       "model_id": "0e8537b8306847e5948883254f08d96d",
       "version_major": 2,
       "version_minor": 0
      },
      "text/plain": [
       "HBox(children=(FloatProgress(value=0.0, description='One fit', max=190.0, style=ProgressStyle(description_widt…"
      ]
     },
     "metadata": {},
     "output_type": "display_data"
    },
    {
     "name": "stdout",
     "output_type": "stream",
     "text": [
      "\n",
      "Layer: 3. Metric: 0.5232417314140079\n"
     ]
    },
    {
     "data": {
      "application/vnd.jupyter.widget-view+json": {
       "model_id": "1a8b322488824c3bb2b9590052adb0d1",
       "version_major": 2,
       "version_minor": 0
      },
      "text/plain": [
       "HBox(children=(FloatProgress(value=0.0, description='One fit', max=190.0, style=ProgressStyle(description_widt…"
      ]
     },
     "metadata": {},
     "output_type": "display_data"
    },
    {
     "name": "stdout",
     "output_type": "stream",
     "text": [
      "\n",
      "Layer: 4. Metric: 0.5139065583038438\n"
     ]
    },
    {
     "data": {
      "application/vnd.jupyter.widget-view+json": {
       "model_id": "0364004033584ea2b334ed01258cc4c0",
       "version_major": 2,
       "version_minor": 0
      },
      "text/plain": [
       "HBox(children=(FloatProgress(value=0.0, description='One fit', max=190.0, style=ProgressStyle(description_widt…"
      ]
     },
     "metadata": {},
     "output_type": "display_data"
    },
    {
     "name": "stdout",
     "output_type": "stream",
     "text": [
      "\n",
      "Layer: 5. Metric: 0.5124352545014115\n"
     ]
    },
    {
     "data": {
      "application/vnd.jupyter.widget-view+json": {
       "model_id": "a2251c67778644298c5184362f9a2b94",
       "version_major": 2,
       "version_minor": 0
      },
      "text/plain": [
       "HBox(children=(FloatProgress(value=0.0, description='One fit', max=190.0, style=ProgressStyle(description_widt…"
      ]
     },
     "metadata": {},
     "output_type": "display_data"
    },
    {
     "name": "stdout",
     "output_type": "stream",
     "text": [
      "\n",
      "Layer: 6. Metric: 0.5111516673532057\n"
     ]
    },
    {
     "data": {
      "application/vnd.jupyter.widget-view+json": {
       "model_id": "2f4bf8133b204e65a1e56d98727a0b5b",
       "version_major": 2,
       "version_minor": 0
      },
      "text/plain": [
       "HBox(children=(FloatProgress(value=0.0, description='One fit', max=190.0, style=ProgressStyle(description_widt…"
      ]
     },
     "metadata": {},
     "output_type": "display_data"
    },
    {
     "name": "stderr",
     "output_type": "stream",
     "text": [
      "/home/vsydorskyi/anaconda3/envs/venv/lib/python3.7/site-packages/scipy/optimize/_linprog_ip.py:110: LinAlgWarning: Ill-conditioned matrix (rcond=2.26094e-20): result may not be accurate.\n",
      "  return sp.linalg.solve(M, r, sym_pos=sym_pos)\n",
      "/home/vsydorskyi/anaconda3/envs/venv/lib/python3.7/site-packages/scipy/optimize/_linprog_ip.py:110: LinAlgWarning: Ill-conditioned matrix (rcond=3.78378e-21): result may not be accurate.\n",
      "  return sp.linalg.solve(M, r, sym_pos=sym_pos)\n",
      "/home/vsydorskyi/anaconda3/envs/venv/lib/python3.7/site-packages/scipy/optimize/_linprog_ip.py:110: LinAlgWarning: Ill-conditioned matrix (rcond=3.32279e-21): result may not be accurate.\n",
      "  return sp.linalg.solve(M, r, sym_pos=sym_pos)\n",
      "/home/vsydorskyi/anaconda3/envs/venv/lib/python3.7/site-packages/scipy/optimize/_linprog_ip.py:110: LinAlgWarning: Ill-conditioned matrix (rcond=2.01581e-21): result may not be accurate.\n",
      "  return sp.linalg.solve(M, r, sym_pos=sym_pos)\n",
      "/home/vsydorskyi/anaconda3/envs/venv/lib/python3.7/site-packages/scipy/optimize/_linprog_ip.py:110: LinAlgWarning: Ill-conditioned matrix (rcond=1.39343e-23): result may not be accurate.\n",
      "  return sp.linalg.solve(M, r, sym_pos=sym_pos)\n",
      "/home/vsydorskyi/anaconda3/envs/venv/lib/python3.7/site-packages/scipy/optimize/_linprog_ip.py:110: LinAlgWarning: Ill-conditioned matrix (rcond=7.99562e-24): result may not be accurate.\n",
      "  return sp.linalg.solve(M, r, sym_pos=sym_pos)\n",
      "/home/vsydorskyi/anaconda3/envs/venv/lib/python3.7/site-packages/scipy/optimize/_linprog_ip.py:110: LinAlgWarning: Ill-conditioned matrix (rcond=2.08435e-22): result may not be accurate.\n",
      "  return sp.linalg.solve(M, r, sym_pos=sym_pos)\n",
      "/home/vsydorskyi/anaconda3/envs/venv/lib/python3.7/site-packages/scipy/optimize/_linprog_ip.py:110: LinAlgWarning: Ill-conditioned matrix (rcond=3.85428e-22): result may not be accurate.\n",
      "  return sp.linalg.solve(M, r, sym_pos=sym_pos)\n",
      "/home/vsydorskyi/anaconda3/envs/venv/lib/python3.7/site-packages/scipy/optimize/_linprog_ip.py:110: LinAlgWarning: Ill-conditioned matrix (rcond=8.71391e-23): result may not be accurate.\n",
      "  return sp.linalg.solve(M, r, sym_pos=sym_pos)\n",
      "/home/vsydorskyi/anaconda3/envs/venv/lib/python3.7/site-packages/scipy/optimize/_linprog_ip.py:110: LinAlgWarning: Ill-conditioned matrix (rcond=4.57853e-23): result may not be accurate.\n",
      "  return sp.linalg.solve(M, r, sym_pos=sym_pos)\n",
      "/home/vsydorskyi/anaconda3/envs/venv/lib/python3.7/site-packages/scipy/optimize/_linprog_ip.py:110: LinAlgWarning: Ill-conditioned matrix (rcond=3.32503e-22): result may not be accurate.\n",
      "  return sp.linalg.solve(M, r, sym_pos=sym_pos)\n",
      "/home/vsydorskyi/anaconda3/envs/venv/lib/python3.7/site-packages/scipy/optimize/_linprog_ip.py:110: LinAlgWarning: Ill-conditioned matrix (rcond=7.25065e-23): result may not be accurate.\n",
      "  return sp.linalg.solve(M, r, sym_pos=sym_pos)\n",
      "/home/vsydorskyi/anaconda3/envs/venv/lib/python3.7/site-packages/scipy/optimize/_linprog_ip.py:110: LinAlgWarning: Ill-conditioned matrix (rcond=7.55799e-23): result may not be accurate.\n",
      "  return sp.linalg.solve(M, r, sym_pos=sym_pos)\n",
      "/home/vsydorskyi/anaconda3/envs/venv/lib/python3.7/site-packages/scipy/optimize/_linprog_ip.py:110: LinAlgWarning: Ill-conditioned matrix (rcond=3.70115e-22): result may not be accurate.\n",
      "  return sp.linalg.solve(M, r, sym_pos=sym_pos)\n",
      "/home/vsydorskyi/anaconda3/envs/venv/lib/python3.7/site-packages/scipy/optimize/_linprog_ip.py:110: LinAlgWarning: Ill-conditioned matrix (rcond=1.94462e-22): result may not be accurate.\n",
      "  return sp.linalg.solve(M, r, sym_pos=sym_pos)\n",
      "/home/vsydorskyi/anaconda3/envs/venv/lib/python3.7/site-packages/scipy/optimize/_linprog_ip.py:110: LinAlgWarning: Ill-conditioned matrix (rcond=5.04738e-22): result may not be accurate.\n",
      "  return sp.linalg.solve(M, r, sym_pos=sym_pos)\n",
      "/home/vsydorskyi/anaconda3/envs/venv/lib/python3.7/site-packages/scipy/optimize/_linprog_ip.py:110: LinAlgWarning: Ill-conditioned matrix (rcond=9.79322e-23): result may not be accurate.\n",
      "  return sp.linalg.solve(M, r, sym_pos=sym_pos)\n",
      "/home/vsydorskyi/anaconda3/envs/venv/lib/python3.7/site-packages/scipy/optimize/_linprog_ip.py:110: LinAlgWarning: Ill-conditioned matrix (rcond=7.31311e-22): result may not be accurate.\n",
      "  return sp.linalg.solve(M, r, sym_pos=sym_pos)\n",
      "/home/vsydorskyi/anaconda3/envs/venv/lib/python3.7/site-packages/scipy/optimize/_linprog_ip.py:110: LinAlgWarning: Ill-conditioned matrix (rcond=4.18985e-22): result may not be accurate.\n",
      "  return sp.linalg.solve(M, r, sym_pos=sym_pos)\n",
      "/home/vsydorskyi/anaconda3/envs/venv/lib/python3.7/site-packages/scipy/optimize/_linprog_ip.py:110: LinAlgWarning: Ill-conditioned matrix (rcond=2.53213e-22): result may not be accurate.\n",
      "  return sp.linalg.solve(M, r, sym_pos=sym_pos)\n",
      "/home/vsydorskyi/anaconda3/envs/venv/lib/python3.7/site-packages/scipy/optimize/_linprog_ip.py:110: LinAlgWarning: Ill-conditioned matrix (rcond=2.00844e-22): result may not be accurate.\n",
      "  return sp.linalg.solve(M, r, sym_pos=sym_pos)\n",
      "/home/vsydorskyi/anaconda3/envs/venv/lib/python3.7/site-packages/scipy/optimize/_linprog_ip.py:110: LinAlgWarning: Ill-conditioned matrix (rcond=1.05639e-22): result may not be accurate.\n",
      "  return sp.linalg.solve(M, r, sym_pos=sym_pos)\n",
      "/home/vsydorskyi/anaconda3/envs/venv/lib/python3.7/site-packages/scipy/optimize/_linprog_ip.py:110: LinAlgWarning: Ill-conditioned matrix (rcond=5.28506e-23): result may not be accurate.\n",
      "  return sp.linalg.solve(M, r, sym_pos=sym_pos)\n",
      "/home/vsydorskyi/anaconda3/envs/venv/lib/python3.7/site-packages/scipy/optimize/_linprog_ip.py:110: LinAlgWarning: Ill-conditioned matrix (rcond=5.75695e-23): result may not be accurate.\n",
      "  return sp.linalg.solve(M, r, sym_pos=sym_pos)\n",
      "/home/vsydorskyi/anaconda3/envs/venv/lib/python3.7/site-packages/scipy/optimize/_linprog_ip.py:110: LinAlgWarning: Ill-conditioned matrix (rcond=7.58364e-23): result may not be accurate.\n",
      "  return sp.linalg.solve(M, r, sym_pos=sym_pos)\n",
      "/home/vsydorskyi/anaconda3/envs/venv/lib/python3.7/site-packages/scipy/optimize/_linprog_ip.py:110: LinAlgWarning: Ill-conditioned matrix (rcond=1.45878e-22): result may not be accurate.\n",
      "  return sp.linalg.solve(M, r, sym_pos=sym_pos)\n",
      "/home/vsydorskyi/anaconda3/envs/venv/lib/python3.7/site-packages/scipy/optimize/_linprog_ip.py:110: LinAlgWarning: Ill-conditioned matrix (rcond=2.54891e-22): result may not be accurate.\n",
      "  return sp.linalg.solve(M, r, sym_pos=sym_pos)\n",
      "/home/vsydorskyi/anaconda3/envs/venv/lib/python3.7/site-packages/scipy/optimize/_linprog_ip.py:110: LinAlgWarning: Ill-conditioned matrix (rcond=2.11715e-22): result may not be accurate.\n",
      "  return sp.linalg.solve(M, r, sym_pos=sym_pos)\n",
      "/home/vsydorskyi/anaconda3/envs/venv/lib/python3.7/site-packages/scipy/optimize/_linprog_ip.py:110: LinAlgWarning: Ill-conditioned matrix (rcond=1.68284e-23): result may not be accurate.\n",
      "  return sp.linalg.solve(M, r, sym_pos=sym_pos)\n",
      "/home/vsydorskyi/anaconda3/envs/venv/lib/python3.7/site-packages/scipy/optimize/_linprog_ip.py:110: LinAlgWarning: Ill-conditioned matrix (rcond=2.52514e-22): result may not be accurate.\n",
      "  return sp.linalg.solve(M, r, sym_pos=sym_pos)\n",
      "/home/vsydorskyi/anaconda3/envs/venv/lib/python3.7/site-packages/scipy/optimize/_linprog_ip.py:110: LinAlgWarning: Ill-conditioned matrix (rcond=2.74666e-22): result may not be accurate.\n",
      "  return sp.linalg.solve(M, r, sym_pos=sym_pos)\n",
      "/home/vsydorskyi/anaconda3/envs/venv/lib/python3.7/site-packages/scipy/optimize/_linprog_ip.py:110: LinAlgWarning: Ill-conditioned matrix (rcond=3.22106e-22): result may not be accurate.\n",
      "  return sp.linalg.solve(M, r, sym_pos=sym_pos)\n",
      "/home/vsydorskyi/anaconda3/envs/venv/lib/python3.7/site-packages/scipy/optimize/_linprog_ip.py:110: LinAlgWarning: Ill-conditioned matrix (rcond=2.04347e-22): result may not be accurate.\n",
      "  return sp.linalg.solve(M, r, sym_pos=sym_pos)\n",
      "/home/vsydorskyi/anaconda3/envs/venv/lib/python3.7/site-packages/scipy/optimize/_linprog_ip.py:110: LinAlgWarning: Ill-conditioned matrix (rcond=1.29818e-22): result may not be accurate.\n",
      "  return sp.linalg.solve(M, r, sym_pos=sym_pos)\n",
      "/home/vsydorskyi/anaconda3/envs/venv/lib/python3.7/site-packages/scipy/optimize/_linprog_ip.py:110: LinAlgWarning: Ill-conditioned matrix (rcond=2.24489e-22): result may not be accurate.\n",
      "  return sp.linalg.solve(M, r, sym_pos=sym_pos)\n",
      "/home/vsydorskyi/anaconda3/envs/venv/lib/python3.7/site-packages/scipy/optimize/_linprog_ip.py:110: LinAlgWarning: Ill-conditioned matrix (rcond=1.08462e-22): result may not be accurate.\n",
      "  return sp.linalg.solve(M, r, sym_pos=sym_pos)\n",
      "/home/vsydorskyi/anaconda3/envs/venv/lib/python3.7/site-packages/scipy/optimize/_linprog_ip.py:110: LinAlgWarning: Ill-conditioned matrix (rcond=1.46668e-22): result may not be accurate.\n",
      "  return sp.linalg.solve(M, r, sym_pos=sym_pos)\n",
      "/home/vsydorskyi/anaconda3/envs/venv/lib/python3.7/site-packages/scipy/optimize/_linprog_ip.py:110: LinAlgWarning: Ill-conditioned matrix (rcond=6.46451e-22): result may not be accurate.\n",
      "  return sp.linalg.solve(M, r, sym_pos=sym_pos)\n",
      "/home/vsydorskyi/anaconda3/envs/venv/lib/python3.7/site-packages/scipy/optimize/_linprog_ip.py:110: LinAlgWarning: Ill-conditioned matrix (rcond=6.9589e-23): result may not be accurate.\n",
      "  return sp.linalg.solve(M, r, sym_pos=sym_pos)\n",
      "/home/vsydorskyi/anaconda3/envs/venv/lib/python3.7/site-packages/scipy/optimize/_linprog_ip.py:110: LinAlgWarning: Ill-conditioned matrix (rcond=2.23419e-22): result may not be accurate.\n",
      "  return sp.linalg.solve(M, r, sym_pos=sym_pos)\n",
      "/home/vsydorskyi/anaconda3/envs/venv/lib/python3.7/site-packages/scipy/optimize/_linprog_ip.py:110: LinAlgWarning: Ill-conditioned matrix (rcond=3.77065e-23): result may not be accurate.\n",
      "  return sp.linalg.solve(M, r, sym_pos=sym_pos)\n",
      "/home/vsydorskyi/anaconda3/envs/venv/lib/python3.7/site-packages/scipy/optimize/_linprog_ip.py:110: LinAlgWarning: Ill-conditioned matrix (rcond=1.66695e-22): result may not be accurate.\n",
      "  return sp.linalg.solve(M, r, sym_pos=sym_pos)\n",
      "/home/vsydorskyi/anaconda3/envs/venv/lib/python3.7/site-packages/scipy/optimize/_linprog_ip.py:110: LinAlgWarning: Ill-conditioned matrix (rcond=1.71037e-23): result may not be accurate.\n",
      "  return sp.linalg.solve(M, r, sym_pos=sym_pos)\n",
      "/home/vsydorskyi/anaconda3/envs/venv/lib/python3.7/site-packages/scipy/optimize/_linprog_ip.py:110: LinAlgWarning: Ill-conditioned matrix (rcond=2.0604e-22): result may not be accurate.\n",
      "  return sp.linalg.solve(M, r, sym_pos=sym_pos)\n",
      "/home/vsydorskyi/anaconda3/envs/venv/lib/python3.7/site-packages/scipy/optimize/_linprog_ip.py:110: LinAlgWarning: Ill-conditioned matrix (rcond=3.3918e-22): result may not be accurate.\n",
      "  return sp.linalg.solve(M, r, sym_pos=sym_pos)\n",
      "/home/vsydorskyi/anaconda3/envs/venv/lib/python3.7/site-packages/scipy/optimize/_linprog_ip.py:110: LinAlgWarning: Ill-conditioned matrix (rcond=3.52353e-35): result may not be accurate.\n",
      "  return sp.linalg.solve(M, r, sym_pos=sym_pos)\n",
      "/home/vsydorskyi/anaconda3/envs/venv/lib/python3.7/site-packages/scipy/optimize/_linprog_ip.py:110: LinAlgWarning: Ill-conditioned matrix (rcond=4.47422e-23): result may not be accurate.\n",
      "  return sp.linalg.solve(M, r, sym_pos=sym_pos)\n",
      "/home/vsydorskyi/anaconda3/envs/venv/lib/python3.7/site-packages/scipy/optimize/_linprog_ip.py:110: LinAlgWarning: Ill-conditioned matrix (rcond=2.5699e-23): result may not be accurate.\n",
      "  return sp.linalg.solve(M, r, sym_pos=sym_pos)\n",
      "/home/vsydorskyi/anaconda3/envs/venv/lib/python3.7/site-packages/scipy/optimize/_linprog_ip.py:110: LinAlgWarning: Ill-conditioned matrix (rcond=7.68489e-35): result may not be accurate.\n",
      "  return sp.linalg.solve(M, r, sym_pos=sym_pos)\n",
      "/home/vsydorskyi/anaconda3/envs/venv/lib/python3.7/site-packages/scipy/optimize/_linprog_ip.py:110: LinAlgWarning: Ill-conditioned matrix (rcond=5.60191e-22): result may not be accurate.\n",
      "  return sp.linalg.solve(M, r, sym_pos=sym_pos)\n",
      "/home/vsydorskyi/anaconda3/envs/venv/lib/python3.7/site-packages/scipy/optimize/_linprog_ip.py:110: LinAlgWarning: Ill-conditioned matrix (rcond=7.57722e-22): result may not be accurate.\n",
      "  return sp.linalg.solve(M, r, sym_pos=sym_pos)\n",
      "/home/vsydorskyi/anaconda3/envs/venv/lib/python3.7/site-packages/scipy/optimize/_linprog_ip.py:110: LinAlgWarning: Ill-conditioned matrix (rcond=2.4634e-22): result may not be accurate.\n",
      "  return sp.linalg.solve(M, r, sym_pos=sym_pos)\n",
      "/home/vsydorskyi/anaconda3/envs/venv/lib/python3.7/site-packages/scipy/optimize/_linprog_ip.py:110: LinAlgWarning: Ill-conditioned matrix (rcond=1.64957e-22): result may not be accurate.\n",
      "  return sp.linalg.solve(M, r, sym_pos=sym_pos)\n",
      "/home/vsydorskyi/anaconda3/envs/venv/lib/python3.7/site-packages/scipy/optimize/_linprog_ip.py:110: LinAlgWarning: Ill-conditioned matrix (rcond=2.17056e-22): result may not be accurate.\n",
      "  return sp.linalg.solve(M, r, sym_pos=sym_pos)\n",
      "/home/vsydorskyi/anaconda3/envs/venv/lib/python3.7/site-packages/scipy/optimize/_linprog_ip.py:110: LinAlgWarning: Ill-conditioned matrix (rcond=2.83318e-23): result may not be accurate.\n",
      "  return sp.linalg.solve(M, r, sym_pos=sym_pos)\n",
      "/home/vsydorskyi/anaconda3/envs/venv/lib/python3.7/site-packages/scipy/optimize/_linprog_ip.py:110: LinAlgWarning: Ill-conditioned matrix (rcond=1.86593e-22): result may not be accurate.\n",
      "  return sp.linalg.solve(M, r, sym_pos=sym_pos)\n",
      "/home/vsydorskyi/anaconda3/envs/venv/lib/python3.7/site-packages/scipy/optimize/_linprog_ip.py:110: LinAlgWarning: Ill-conditioned matrix (rcond=4.18572e-22): result may not be accurate.\n",
      "  return sp.linalg.solve(M, r, sym_pos=sym_pos)\n",
      "/home/vsydorskyi/anaconda3/envs/venv/lib/python3.7/site-packages/scipy/optimize/_linprog_ip.py:110: LinAlgWarning: Ill-conditioned matrix (rcond=9.95685e-23): result may not be accurate.\n",
      "  return sp.linalg.solve(M, r, sym_pos=sym_pos)\n",
      "/home/vsydorskyi/anaconda3/envs/venv/lib/python3.7/site-packages/scipy/optimize/_linprog_ip.py:110: LinAlgWarning: Ill-conditioned matrix (rcond=1.4157e-22): result may not be accurate.\n",
      "  return sp.linalg.solve(M, r, sym_pos=sym_pos)\n",
      "/home/vsydorskyi/anaconda3/envs/venv/lib/python3.7/site-packages/scipy/optimize/_linprog_ip.py:110: LinAlgWarning: Ill-conditioned matrix (rcond=7.85861e-23): result may not be accurate.\n",
      "  return sp.linalg.solve(M, r, sym_pos=sym_pos)\n",
      "/home/vsydorskyi/anaconda3/envs/venv/lib/python3.7/site-packages/scipy/optimize/_linprog_ip.py:110: LinAlgWarning: Ill-conditioned matrix (rcond=3.1684e-22): result may not be accurate.\n",
      "  return sp.linalg.solve(M, r, sym_pos=sym_pos)\n",
      "/home/vsydorskyi/anaconda3/envs/venv/lib/python3.7/site-packages/scipy/optimize/_linprog_ip.py:110: LinAlgWarning: Ill-conditioned matrix (rcond=3.11429e-22): result may not be accurate.\n",
      "  return sp.linalg.solve(M, r, sym_pos=sym_pos)\n",
      "/home/vsydorskyi/anaconda3/envs/venv/lib/python3.7/site-packages/scipy/optimize/_linprog_ip.py:110: LinAlgWarning: Ill-conditioned matrix (rcond=2.0001e-22): result may not be accurate.\n",
      "  return sp.linalg.solve(M, r, sym_pos=sym_pos)\n",
      "/home/vsydorskyi/anaconda3/envs/venv/lib/python3.7/site-packages/scipy/optimize/_linprog_ip.py:110: LinAlgWarning: Ill-conditioned matrix (rcond=2.46341e-22): result may not be accurate.\n",
      "  return sp.linalg.solve(M, r, sym_pos=sym_pos)\n",
      "/home/vsydorskyi/anaconda3/envs/venv/lib/python3.7/site-packages/scipy/optimize/_linprog_ip.py:110: LinAlgWarning: Ill-conditioned matrix (rcond=2.63348e-22): result may not be accurate.\n",
      "  return sp.linalg.solve(M, r, sym_pos=sym_pos)\n",
      "/home/vsydorskyi/anaconda3/envs/venv/lib/python3.7/site-packages/scipy/optimize/_linprog_ip.py:110: LinAlgWarning: Ill-conditioned matrix (rcond=4.71372e-23): result may not be accurate.\n",
      "  return sp.linalg.solve(M, r, sym_pos=sym_pos)\n",
      "/home/vsydorskyi/anaconda3/envs/venv/lib/python3.7/site-packages/scipy/optimize/_linprog_ip.py:110: LinAlgWarning: Ill-conditioned matrix (rcond=2.65366e-23): result may not be accurate.\n",
      "  return sp.linalg.solve(M, r, sym_pos=sym_pos)\n",
      "/home/vsydorskyi/anaconda3/envs/venv/lib/python3.7/site-packages/scipy/optimize/_linprog_ip.py:110: LinAlgWarning: Ill-conditioned matrix (rcond=2.56597e-22): result may not be accurate.\n",
      "  return sp.linalg.solve(M, r, sym_pos=sym_pos)\n",
      "/home/vsydorskyi/anaconda3/envs/venv/lib/python3.7/site-packages/scipy/optimize/_linprog_ip.py:110: LinAlgWarning: Ill-conditioned matrix (rcond=1.70259e-22): result may not be accurate.\n",
      "  return sp.linalg.solve(M, r, sym_pos=sym_pos)\n",
      "/home/vsydorskyi/anaconda3/envs/venv/lib/python3.7/site-packages/scipy/optimize/_linprog_ip.py:110: LinAlgWarning: Ill-conditioned matrix (rcond=5.37215e-22): result may not be accurate.\n",
      "  return sp.linalg.solve(M, r, sym_pos=sym_pos)\n",
      "/home/vsydorskyi/anaconda3/envs/venv/lib/python3.7/site-packages/scipy/optimize/_linprog_ip.py:110: LinAlgWarning: Ill-conditioned matrix (rcond=1.99771e-22): result may not be accurate.\n",
      "  return sp.linalg.solve(M, r, sym_pos=sym_pos)\n",
      "/home/vsydorskyi/anaconda3/envs/venv/lib/python3.7/site-packages/scipy/optimize/_linprog_ip.py:110: LinAlgWarning: Ill-conditioned matrix (rcond=5.57563e-22): result may not be accurate.\n",
      "  return sp.linalg.solve(M, r, sym_pos=sym_pos)\n",
      "/home/vsydorskyi/anaconda3/envs/venv/lib/python3.7/site-packages/scipy/optimize/_linprog_ip.py:110: LinAlgWarning: Ill-conditioned matrix (rcond=4.35289e-23): result may not be accurate.\n",
      "  return sp.linalg.solve(M, r, sym_pos=sym_pos)\n",
      "/home/vsydorskyi/anaconda3/envs/venv/lib/python3.7/site-packages/scipy/optimize/_linprog_ip.py:110: LinAlgWarning: Ill-conditioned matrix (rcond=2.78626e-22): result may not be accurate.\n",
      "  return sp.linalg.solve(M, r, sym_pos=sym_pos)\n",
      "/home/vsydorskyi/anaconda3/envs/venv/lib/python3.7/site-packages/scipy/optimize/_linprog_ip.py:110: LinAlgWarning: Ill-conditioned matrix (rcond=2.15682e-23): result may not be accurate.\n",
      "  return sp.linalg.solve(M, r, sym_pos=sym_pos)\n",
      "/home/vsydorskyi/anaconda3/envs/venv/lib/python3.7/site-packages/scipy/optimize/_linprog_ip.py:110: LinAlgWarning: Ill-conditioned matrix (rcond=2.66854e-22): result may not be accurate.\n",
      "  return sp.linalg.solve(M, r, sym_pos=sym_pos)\n",
      "/home/vsydorskyi/anaconda3/envs/venv/lib/python3.7/site-packages/scipy/optimize/_linprog_ip.py:110: LinAlgWarning: Ill-conditioned matrix (rcond=4.47333e-23): result may not be accurate.\n",
      "  return sp.linalg.solve(M, r, sym_pos=sym_pos)\n",
      "/home/vsydorskyi/anaconda3/envs/venv/lib/python3.7/site-packages/scipy/optimize/_linprog_ip.py:110: LinAlgWarning: Ill-conditioned matrix (rcond=2.39299e-22): result may not be accurate.\n",
      "  return sp.linalg.solve(M, r, sym_pos=sym_pos)\n",
      "/home/vsydorskyi/anaconda3/envs/venv/lib/python3.7/site-packages/scipy/optimize/_linprog_ip.py:110: LinAlgWarning: Ill-conditioned matrix (rcond=1.54383e-22): result may not be accurate.\n",
      "  return sp.linalg.solve(M, r, sym_pos=sym_pos)\n",
      "/home/vsydorskyi/anaconda3/envs/venv/lib/python3.7/site-packages/scipy/optimize/_linprog_ip.py:110: LinAlgWarning: Ill-conditioned matrix (rcond=1.415e-22): result may not be accurate.\n",
      "  return sp.linalg.solve(M, r, sym_pos=sym_pos)\n",
      "/home/vsydorskyi/anaconda3/envs/venv/lib/python3.7/site-packages/scipy/optimize/_linprog_ip.py:110: LinAlgWarning: Ill-conditioned matrix (rcond=9.99403e-22): result may not be accurate.\n",
      "  return sp.linalg.solve(M, r, sym_pos=sym_pos)\n",
      "/home/vsydorskyi/anaconda3/envs/venv/lib/python3.7/site-packages/scipy/optimize/_linprog_ip.py:110: LinAlgWarning: Ill-conditioned matrix (rcond=1.23212e-22): result may not be accurate.\n",
      "  return sp.linalg.solve(M, r, sym_pos=sym_pos)\n",
      "/home/vsydorskyi/anaconda3/envs/venv/lib/python3.7/site-packages/scipy/optimize/_linprog_ip.py:110: LinAlgWarning: Ill-conditioned matrix (rcond=6.62778e-22): result may not be accurate.\n",
      "  return sp.linalg.solve(M, r, sym_pos=sym_pos)\n",
      "/home/vsydorskyi/anaconda3/envs/venv/lib/python3.7/site-packages/scipy/optimize/_linprog_ip.py:110: LinAlgWarning: Ill-conditioned matrix (rcond=2.75064e-22): result may not be accurate.\n",
      "  return sp.linalg.solve(M, r, sym_pos=sym_pos)\n",
      "/home/vsydorskyi/anaconda3/envs/venv/lib/python3.7/site-packages/scipy/optimize/_linprog_ip.py:110: LinAlgWarning: Ill-conditioned matrix (rcond=5.496e-22): result may not be accurate.\n",
      "  return sp.linalg.solve(M, r, sym_pos=sym_pos)\n",
      "/home/vsydorskyi/anaconda3/envs/venv/lib/python3.7/site-packages/scipy/optimize/_linprog_ip.py:110: LinAlgWarning: Ill-conditioned matrix (rcond=6.48101e-22): result may not be accurate.\n",
      "  return sp.linalg.solve(M, r, sym_pos=sym_pos)\n",
      "/home/vsydorskyi/anaconda3/envs/venv/lib/python3.7/site-packages/scipy/optimize/_linprog_ip.py:110: LinAlgWarning: Ill-conditioned matrix (rcond=5.19562e-23): result may not be accurate.\n",
      "  return sp.linalg.solve(M, r, sym_pos=sym_pos)\n",
      "/home/vsydorskyi/anaconda3/envs/venv/lib/python3.7/site-packages/scipy/optimize/_linprog_ip.py:110: LinAlgWarning: Ill-conditioned matrix (rcond=7.09121e-23): result may not be accurate.\n",
      "  return sp.linalg.solve(M, r, sym_pos=sym_pos)\n",
      "/home/vsydorskyi/anaconda3/envs/venv/lib/python3.7/site-packages/scipy/optimize/_linprog_ip.py:110: LinAlgWarning: Ill-conditioned matrix (rcond=5.01551e-22): result may not be accurate.\n",
      "  return sp.linalg.solve(M, r, sym_pos=sym_pos)\n",
      "/home/vsydorskyi/anaconda3/envs/venv/lib/python3.7/site-packages/scipy/optimize/_linprog_ip.py:110: LinAlgWarning: Ill-conditioned matrix (rcond=2.52896e-22): result may not be accurate.\n",
      "  return sp.linalg.solve(M, r, sym_pos=sym_pos)\n",
      "/home/vsydorskyi/anaconda3/envs/venv/lib/python3.7/site-packages/scipy/optimize/_linprog_ip.py:110: LinAlgWarning: Ill-conditioned matrix (rcond=1.14175e-23): result may not be accurate.\n",
      "  return sp.linalg.solve(M, r, sym_pos=sym_pos)\n",
      "/home/vsydorskyi/anaconda3/envs/venv/lib/python3.7/site-packages/scipy/optimize/_linprog_ip.py:110: LinAlgWarning: Ill-conditioned matrix (rcond=7.28807e-23): result may not be accurate.\n",
      "  return sp.linalg.solve(M, r, sym_pos=sym_pos)\n",
      "/home/vsydorskyi/anaconda3/envs/venv/lib/python3.7/site-packages/scipy/optimize/_linprog_ip.py:110: LinAlgWarning: Ill-conditioned matrix (rcond=1.90571e-22): result may not be accurate.\n",
      "  return sp.linalg.solve(M, r, sym_pos=sym_pos)\n",
      "/home/vsydorskyi/anaconda3/envs/venv/lib/python3.7/site-packages/scipy/optimize/_linprog_ip.py:110: LinAlgWarning: Ill-conditioned matrix (rcond=2.44966e-24): result may not be accurate.\n",
      "  return sp.linalg.solve(M, r, sym_pos=sym_pos)\n",
      "/home/vsydorskyi/anaconda3/envs/venv/lib/python3.7/site-packages/scipy/optimize/_linprog_ip.py:110: LinAlgWarning: Ill-conditioned matrix (rcond=1.41149e-22): result may not be accurate.\n",
      "  return sp.linalg.solve(M, r, sym_pos=sym_pos)\n",
      "/home/vsydorskyi/anaconda3/envs/venv/lib/python3.7/site-packages/scipy/optimize/_linprog_ip.py:110: LinAlgWarning: Ill-conditioned matrix (rcond=1.31644e-22): result may not be accurate.\n",
      "  return sp.linalg.solve(M, r, sym_pos=sym_pos)\n",
      "/home/vsydorskyi/anaconda3/envs/venv/lib/python3.7/site-packages/scipy/optimize/_linprog_ip.py:110: LinAlgWarning: Ill-conditioned matrix (rcond=1.43945e-22): result may not be accurate.\n",
      "  return sp.linalg.solve(M, r, sym_pos=sym_pos)\n",
      "/home/vsydorskyi/anaconda3/envs/venv/lib/python3.7/site-packages/scipy/optimize/_linprog_ip.py:110: LinAlgWarning: Ill-conditioned matrix (rcond=5.89554e-22): result may not be accurate.\n",
      "  return sp.linalg.solve(M, r, sym_pos=sym_pos)\n",
      "/home/vsydorskyi/anaconda3/envs/venv/lib/python3.7/site-packages/scipy/optimize/_linprog_ip.py:110: LinAlgWarning: Ill-conditioned matrix (rcond=4.689e-23): result may not be accurate.\n",
      "  return sp.linalg.solve(M, r, sym_pos=sym_pos)\n",
      "/home/vsydorskyi/anaconda3/envs/venv/lib/python3.7/site-packages/scipy/optimize/_linprog_ip.py:110: LinAlgWarning: Ill-conditioned matrix (rcond=3.61102e-22): result may not be accurate.\n",
      "  return sp.linalg.solve(M, r, sym_pos=sym_pos)\n",
      "/home/vsydorskyi/anaconda3/envs/venv/lib/python3.7/site-packages/scipy/optimize/_linprog_ip.py:110: LinAlgWarning: Ill-conditioned matrix (rcond=1.5344e-23): result may not be accurate.\n",
      "  return sp.linalg.solve(M, r, sym_pos=sym_pos)\n",
      "/home/vsydorskyi/anaconda3/envs/venv/lib/python3.7/site-packages/scipy/optimize/_linprog_ip.py:110: LinAlgWarning: Ill-conditioned matrix (rcond=6.1592e-24): result may not be accurate.\n",
      "  return sp.linalg.solve(M, r, sym_pos=sym_pos)\n",
      "/home/vsydorskyi/anaconda3/envs/venv/lib/python3.7/site-packages/scipy/optimize/_linprog_ip.py:110: LinAlgWarning: Ill-conditioned matrix (rcond=1.56125e-22): result may not be accurate.\n",
      "  return sp.linalg.solve(M, r, sym_pos=sym_pos)\n",
      "/home/vsydorskyi/anaconda3/envs/venv/lib/python3.7/site-packages/scipy/optimize/_linprog_ip.py:110: LinAlgWarning: Ill-conditioned matrix (rcond=1.02211e-22): result may not be accurate.\n",
      "  return sp.linalg.solve(M, r, sym_pos=sym_pos)\n",
      "/home/vsydorskyi/anaconda3/envs/venv/lib/python3.7/site-packages/scipy/optimize/_linprog_ip.py:110: LinAlgWarning: Ill-conditioned matrix (rcond=5.47565e-24): result may not be accurate.\n",
      "  return sp.linalg.solve(M, r, sym_pos=sym_pos)\n",
      "/home/vsydorskyi/anaconda3/envs/venv/lib/python3.7/site-packages/scipy/optimize/_linprog_ip.py:110: LinAlgWarning: Ill-conditioned matrix (rcond=5.23119e-23): result may not be accurate.\n",
      "  return sp.linalg.solve(M, r, sym_pos=sym_pos)\n",
      "/home/vsydorskyi/anaconda3/envs/venv/lib/python3.7/site-packages/scipy/optimize/_linprog_ip.py:110: LinAlgWarning: Ill-conditioned matrix (rcond=3.17335e-22): result may not be accurate.\n",
      "  return sp.linalg.solve(M, r, sym_pos=sym_pos)\n",
      "/home/vsydorskyi/anaconda3/envs/venv/lib/python3.7/site-packages/scipy/optimize/_linprog_ip.py:110: LinAlgWarning: Ill-conditioned matrix (rcond=2.96823e-22): result may not be accurate.\n",
      "  return sp.linalg.solve(M, r, sym_pos=sym_pos)\n",
      "/home/vsydorskyi/anaconda3/envs/venv/lib/python3.7/site-packages/scipy/optimize/_linprog_ip.py:110: LinAlgWarning: Ill-conditioned matrix (rcond=3.12634e-23): result may not be accurate.\n",
      "  return sp.linalg.solve(M, r, sym_pos=sym_pos)\n",
      "/home/vsydorskyi/anaconda3/envs/venv/lib/python3.7/site-packages/scipy/optimize/_linprog_ip.py:110: LinAlgWarning: Ill-conditioned matrix (rcond=1.85637e-22): result may not be accurate.\n",
      "  return sp.linalg.solve(M, r, sym_pos=sym_pos)\n",
      "/home/vsydorskyi/anaconda3/envs/venv/lib/python3.7/site-packages/scipy/optimize/_linprog_ip.py:110: LinAlgWarning: Ill-conditioned matrix (rcond=3.83455e-23): result may not be accurate.\n",
      "  return sp.linalg.solve(M, r, sym_pos=sym_pos)\n",
      "/home/vsydorskyi/anaconda3/envs/venv/lib/python3.7/site-packages/scipy/optimize/_linprog_ip.py:110: LinAlgWarning: Ill-conditioned matrix (rcond=4.33858e-23): result may not be accurate.\n",
      "  return sp.linalg.solve(M, r, sym_pos=sym_pos)\n",
      "/home/vsydorskyi/anaconda3/envs/venv/lib/python3.7/site-packages/scipy/optimize/_linprog_ip.py:110: LinAlgWarning: Ill-conditioned matrix (rcond=5.56898e-23): result may not be accurate.\n",
      "  return sp.linalg.solve(M, r, sym_pos=sym_pos)\n",
      "/home/vsydorskyi/anaconda3/envs/venv/lib/python3.7/site-packages/scipy/optimize/_linprog_ip.py:110: LinAlgWarning: Ill-conditioned matrix (rcond=2.80593e-22): result may not be accurate.\n",
      "  return sp.linalg.solve(M, r, sym_pos=sym_pos)\n",
      "/home/vsydorskyi/anaconda3/envs/venv/lib/python3.7/site-packages/scipy/optimize/_linprog_ip.py:110: LinAlgWarning: Ill-conditioned matrix (rcond=8.36698e-23): result may not be accurate.\n",
      "  return sp.linalg.solve(M, r, sym_pos=sym_pos)\n",
      "/home/vsydorskyi/anaconda3/envs/venv/lib/python3.7/site-packages/scipy/optimize/_linprog_ip.py:110: LinAlgWarning: Ill-conditioned matrix (rcond=3.04698e-23): result may not be accurate.\n",
      "  return sp.linalg.solve(M, r, sym_pos=sym_pos)\n",
      "/home/vsydorskyi/anaconda3/envs/venv/lib/python3.7/site-packages/scipy/optimize/_linprog_ip.py:110: LinAlgWarning: Ill-conditioned matrix (rcond=1.04523e-23): result may not be accurate.\n",
      "  return sp.linalg.solve(M, r, sym_pos=sym_pos)\n",
      "/home/vsydorskyi/anaconda3/envs/venv/lib/python3.7/site-packages/scipy/optimize/_linprog_ip.py:110: LinAlgWarning: Ill-conditioned matrix (rcond=2.82687e-22): result may not be accurate.\n",
      "  return sp.linalg.solve(M, r, sym_pos=sym_pos)\n",
      "/home/vsydorskyi/anaconda3/envs/venv/lib/python3.7/site-packages/scipy/optimize/_linprog_ip.py:110: LinAlgWarning: Ill-conditioned matrix (rcond=9.01323e-23): result may not be accurate.\n",
      "  return sp.linalg.solve(M, r, sym_pos=sym_pos)\n",
      "/home/vsydorskyi/src/Neural_Net_Genetic_Alg/citk/utils.py:96: OptimizeWarning: Solving system with option 'sym_pos':False failed. This may happen occasionally, especially as the solution is approached. However, if you see this frequently, your problem may be numerically challenging. If you cannot improve the formulation, consider setting 'lstsq' to True. Consider also setting `presolve` to True, if it is not already.\n",
      "  lp = linprog(obj_w, ineq_A, ineq_y, bounds=bounds, method='interior-point', x0=initial_x)\n",
      "/home/vsydorskyi/anaconda3/envs/venv/lib/python3.7/site-packages/scipy/optimize/_linprog_ip.py:110: LinAlgWarning: Ill-conditioned matrix (rcond=9.94703e-35): result may not be accurate.\n",
      "  return sp.linalg.solve(M, r, sym_pos=sym_pos)\n",
      "/home/vsydorskyi/anaconda3/envs/venv/lib/python3.7/site-packages/scipy/optimize/_linprog_ip.py:110: LinAlgWarning: Ill-conditioned matrix (rcond=1.51087e-19): result may not be accurate.\n",
      "  return sp.linalg.solve(M, r, sym_pos=sym_pos)\n",
      "/home/vsydorskyi/anaconda3/envs/venv/lib/python3.7/site-packages/scipy/optimize/_linprog_ip.py:110: LinAlgWarning: Ill-conditioned matrix (rcond=5.75598e-53): result may not be accurate.\n",
      "  return sp.linalg.solve(M, r, sym_pos=sym_pos)\n",
      "/home/vsydorskyi/anaconda3/envs/venv/lib/python3.7/site-packages/scipy/optimize/_linprog_ip.py:110: LinAlgWarning: Ill-conditioned matrix (rcond=5.47352e-53): result may not be accurate.\n",
      "  return sp.linalg.solve(M, r, sym_pos=sym_pos)\n",
      "/home/vsydorskyi/anaconda3/envs/venv/lib/python3.7/site-packages/scipy/optimize/_linprog_ip.py:110: LinAlgWarning: Ill-conditioned matrix (rcond=1.04229e-52): result may not be accurate.\n",
      "  return sp.linalg.solve(M, r, sym_pos=sym_pos)\n",
      "/home/vsydorskyi/anaconda3/envs/venv/lib/python3.7/site-packages/scipy/optimize/_linprog_ip.py:110: LinAlgWarning: Ill-conditioned matrix (rcond=2.9502e-52): result may not be accurate.\n",
      "  return sp.linalg.solve(M, r, sym_pos=sym_pos)\n",
      "/home/vsydorskyi/anaconda3/envs/venv/lib/python3.7/site-packages/scipy/optimize/_linprog_ip.py:110: LinAlgWarning: Ill-conditioned matrix (rcond=1.82494e-52): result may not be accurate.\n",
      "  return sp.linalg.solve(M, r, sym_pos=sym_pos)\n",
      "/home/vsydorskyi/anaconda3/envs/venv/lib/python3.7/site-packages/scipy/optimize/_linprog_ip.py:110: LinAlgWarning: Ill-conditioned matrix (rcond=7.68092e-52): result may not be accurate.\n",
      "  return sp.linalg.solve(M, r, sym_pos=sym_pos)\n",
      "/home/vsydorskyi/anaconda3/envs/venv/lib/python3.7/site-packages/scipy/optimize/_linprog_ip.py:110: LinAlgWarning: Ill-conditioned matrix (rcond=5.00729e-52): result may not be accurate.\n",
      "  return sp.linalg.solve(M, r, sym_pos=sym_pos)\n",
      "/home/vsydorskyi/anaconda3/envs/venv/lib/python3.7/site-packages/scipy/optimize/_linprog_ip.py:110: LinAlgWarning: Ill-conditioned matrix (rcond=2.52575e-52): result may not be accurate.\n",
      "  return sp.linalg.solve(M, r, sym_pos=sym_pos)\n",
      "/home/vsydorskyi/anaconda3/envs/venv/lib/python3.7/site-packages/scipy/optimize/_linprog_ip.py:110: LinAlgWarning: Ill-conditioned matrix (rcond=2.22678e-52): result may not be accurate.\n",
      "  return sp.linalg.solve(M, r, sym_pos=sym_pos)\n",
      "/home/vsydorskyi/anaconda3/envs/venv/lib/python3.7/site-packages/scipy/optimize/_linprog_ip.py:110: LinAlgWarning: Ill-conditioned matrix (rcond=1.55351e-53): result may not be accurate.\n",
      "  return sp.linalg.solve(M, r, sym_pos=sym_pos)\n",
      "/home/vsydorskyi/anaconda3/envs/venv/lib/python3.7/site-packages/scipy/optimize/_linprog_ip.py:110: LinAlgWarning: Ill-conditioned matrix (rcond=5.40726e-51): result may not be accurate.\n",
      "  return sp.linalg.solve(M, r, sym_pos=sym_pos)\n",
      "/home/vsydorskyi/anaconda3/envs/venv/lib/python3.7/site-packages/scipy/optimize/_linprog_ip.py:110: LinAlgWarning: Ill-conditioned matrix (rcond=4.28871e-52): result may not be accurate.\n",
      "  return sp.linalg.solve(M, r, sym_pos=sym_pos)\n",
      "/home/vsydorskyi/anaconda3/envs/venv/lib/python3.7/site-packages/scipy/optimize/_linprog_ip.py:110: LinAlgWarning: Ill-conditioned matrix (rcond=1.32284e-51): result may not be accurate.\n",
      "  return sp.linalg.solve(M, r, sym_pos=sym_pos)\n",
      "/home/vsydorskyi/anaconda3/envs/venv/lib/python3.7/site-packages/scipy/optimize/_linprog_ip.py:110: LinAlgWarning: Ill-conditioned matrix (rcond=4.17314e-50): result may not be accurate.\n",
      "  return sp.linalg.solve(M, r, sym_pos=sym_pos)\n",
      "/home/vsydorskyi/anaconda3/envs/venv/lib/python3.7/site-packages/scipy/optimize/_linprog_ip.py:110: LinAlgWarning: Ill-conditioned matrix (rcond=1.8342e-51): result may not be accurate.\n",
      "  return sp.linalg.solve(M, r, sym_pos=sym_pos)\n",
      "/home/vsydorskyi/anaconda3/envs/venv/lib/python3.7/site-packages/scipy/optimize/_linprog_ip.py:110: LinAlgWarning: Ill-conditioned matrix (rcond=9.77802e-51): result may not be accurate.\n",
      "  return sp.linalg.solve(M, r, sym_pos=sym_pos)\n",
      "/home/vsydorskyi/anaconda3/envs/venv/lib/python3.7/site-packages/scipy/optimize/_linprog_ip.py:110: LinAlgWarning: Ill-conditioned matrix (rcond=5.922e-50): result may not be accurate.\n",
      "  return sp.linalg.solve(M, r, sym_pos=sym_pos)\n",
      "/home/vsydorskyi/anaconda3/envs/venv/lib/python3.7/site-packages/scipy/optimize/_linprog_ip.py:110: LinAlgWarning: Ill-conditioned matrix (rcond=1.32399e-50): result may not be accurate.\n",
      "  return sp.linalg.solve(M, r, sym_pos=sym_pos)\n",
      "/home/vsydorskyi/anaconda3/envs/venv/lib/python3.7/site-packages/scipy/optimize/_linprog_ip.py:110: LinAlgWarning: Ill-conditioned matrix (rcond=7.7172e-51): result may not be accurate.\n",
      "  return sp.linalg.solve(M, r, sym_pos=sym_pos)\n",
      "/home/vsydorskyi/anaconda3/envs/venv/lib/python3.7/site-packages/scipy/optimize/_linprog_ip.py:110: LinAlgWarning: Ill-conditioned matrix (rcond=3.68367e-51): result may not be accurate.\n",
      "  return sp.linalg.solve(M, r, sym_pos=sym_pos)\n",
      "/home/vsydorskyi/anaconda3/envs/venv/lib/python3.7/site-packages/scipy/optimize/_linprog_ip.py:110: LinAlgWarning: Ill-conditioned matrix (rcond=2.5353e-51): result may not be accurate.\n",
      "  return sp.linalg.solve(M, r, sym_pos=sym_pos)\n",
      "/home/vsydorskyi/anaconda3/envs/venv/lib/python3.7/site-packages/scipy/optimize/_linprog_ip.py:110: LinAlgWarning: Ill-conditioned matrix (rcond=2.13807e-50): result may not be accurate.\n",
      "  return sp.linalg.solve(M, r, sym_pos=sym_pos)\n",
      "/home/vsydorskyi/anaconda3/envs/venv/lib/python3.7/site-packages/scipy/optimize/_linprog_ip.py:110: LinAlgWarning: Ill-conditioned matrix (rcond=6.80421e-36): result may not be accurate.\n",
      "  return sp.linalg.solve(M, r, sym_pos=sym_pos)\n",
      "/home/vsydorskyi/anaconda3/envs/venv/lib/python3.7/site-packages/scipy/optimize/_linprog_ip.py:110: LinAlgWarning: Ill-conditioned matrix (rcond=6.45541e-51): result may not be accurate.\n",
      "  return sp.linalg.solve(M, r, sym_pos=sym_pos)\n",
      "/home/vsydorskyi/anaconda3/envs/venv/lib/python3.7/site-packages/scipy/optimize/_linprog_ip.py:110: LinAlgWarning: Ill-conditioned matrix (rcond=2.27843e-50): result may not be accurate.\n",
      "  return sp.linalg.solve(M, r, sym_pos=sym_pos)\n",
      "/home/vsydorskyi/anaconda3/envs/venv/lib/python3.7/site-packages/scipy/optimize/_linprog_ip.py:110: LinAlgWarning: Ill-conditioned matrix (rcond=1.14263e-49): result may not be accurate.\n",
      "  return sp.linalg.solve(M, r, sym_pos=sym_pos)\n",
      "/home/vsydorskyi/anaconda3/envs/venv/lib/python3.7/site-packages/scipy/optimize/_linprog_ip.py:110: LinAlgWarning: Ill-conditioned matrix (rcond=3.36256e-51): result may not be accurate.\n",
      "  return sp.linalg.solve(M, r, sym_pos=sym_pos)\n",
      "/home/vsydorskyi/anaconda3/envs/venv/lib/python3.7/site-packages/scipy/optimize/_linprog_ip.py:110: LinAlgWarning: Ill-conditioned matrix (rcond=2.09807e-35): result may not be accurate.\n",
      "  return sp.linalg.solve(M, r, sym_pos=sym_pos)\n",
      "/home/vsydorskyi/anaconda3/envs/venv/lib/python3.7/site-packages/scipy/optimize/_linprog_ip.py:110: LinAlgWarning: Ill-conditioned matrix (rcond=1.49353e-35): result may not be accurate.\n",
      "  return sp.linalg.solve(M, r, sym_pos=sym_pos)\n",
      "/home/vsydorskyi/anaconda3/envs/venv/lib/python3.7/site-packages/scipy/optimize/_linprog_ip.py:110: LinAlgWarning: Ill-conditioned matrix (rcond=5.83336e-48): result may not be accurate.\n",
      "  return sp.linalg.solve(M, r, sym_pos=sym_pos)\n",
      "/home/vsydorskyi/anaconda3/envs/venv/lib/python3.7/site-packages/scipy/optimize/_linprog_ip.py:110: LinAlgWarning: Ill-conditioned matrix (rcond=1.35489e-35): result may not be accurate.\n",
      "  return sp.linalg.solve(M, r, sym_pos=sym_pos)\n",
      "/home/vsydorskyi/anaconda3/envs/venv/lib/python3.7/site-packages/scipy/optimize/_linprog_ip.py:110: LinAlgWarning: Ill-conditioned matrix (rcond=2.61149e-49): result may not be accurate.\n",
      "  return sp.linalg.solve(M, r, sym_pos=sym_pos)\n",
      "/home/vsydorskyi/anaconda3/envs/venv/lib/python3.7/site-packages/scipy/optimize/_linprog_ip.py:110: LinAlgWarning: Ill-conditioned matrix (rcond=1.56018e-36): result may not be accurate.\n",
      "  return sp.linalg.solve(M, r, sym_pos=sym_pos)\n",
      "/home/vsydorskyi/anaconda3/envs/venv/lib/python3.7/site-packages/scipy/optimize/_linprog_ip.py:110: LinAlgWarning: Ill-conditioned matrix (rcond=7.72302e-50): result may not be accurate.\n",
      "  return sp.linalg.solve(M, r, sym_pos=sym_pos)\n",
      "/home/vsydorskyi/anaconda3/envs/venv/lib/python3.7/site-packages/scipy/optimize/_linprog_ip.py:110: LinAlgWarning: Ill-conditioned matrix (rcond=1.05647e-37): result may not be accurate.\n",
      "  return sp.linalg.solve(M, r, sym_pos=sym_pos)\n"
     ]
    },
    {
     "name": "stdout",
     "output_type": "stream",
     "text": [
      "\n",
      "\n"
     ]
    },
    {
     "name": "stderr",
     "output_type": "stream",
     "text": [
      "/home/vsydorskyi/anaconda3/envs/venv/lib/python3.7/site-packages/scipy/optimize/_linprog_ip.py:110: LinAlgWarning: Ill-conditioned matrix (rcond=1.59489e-35): result may not be accurate.\n",
      "  return sp.linalg.solve(M, r, sym_pos=sym_pos)\n",
      "/home/vsydorskyi/anaconda3/envs/venv/lib/python3.7/site-packages/scipy/optimize/_linprog_ip.py:368: RuntimeWarning: invalid value encountered in less\n",
      "  i_x = d_x < 0\n",
      "/home/vsydorskyi/anaconda3/envs/venv/lib/python3.7/site-packages/scipy/optimize/_linprog_ip.py:369: RuntimeWarning: invalid value encountered in less\n",
      "  i_z = d_z < 0\n",
      "/home/vsydorskyi/src/Neural_Net_Genetic_Alg/citk/model.py:395: UserWarning: Something gone wrong in simplex\n",
      "  warnings.warn(\"Something gone wrong in simplex\")\n",
      "/home/vsydorskyi/src/Neural_Net_Genetic_Alg/citk/model.py:412: UserWarning: Something gone wrong in simplex\n",
      "  warnings.warn(\"Something gone wrong in simplex\")\n"
     ]
    }
   ],
   "source": [
    "model, history, prediction, prediction_train  = model.fit(\n",
    "    (X_train, y_train),\n",
    "    (X_test, y_test),\n",
    "    max_gmdh_layers=20,\n",
    "    n_best_to_take=20,\n",
    "    batch_size=64,\n",
    "    verbose=True,\n",
    ")"
   ]
  },
  {
   "cell_type": "markdown",
   "metadata": {},
   "source": [
    "# Predict and Visualise losses"
   ]
  },
  {
   "cell_type": "code",
   "execution_count": 5,
   "metadata": {},
   "outputs": [
    {
     "data": {
      "image/png": "[encoded data removed]",
      "text/plain": [
       "<Figure size 432x288 with 1 Axes>"
      ]
     },
     "metadata": {
      "needs_background": "light"
     },
     "output_type": "display_data"
    }
   ],
   "source": [
    "plt.title('GMDH Hypersearh val results')\n",
    "plt.plot(history['metric'])\n",
    "plt.xlabel('number of GMDH layers')\n",
    "plt.ylabel('Best validation loss')\n",
    "plt.show()"
   ]
  },
  {
   "cell_type": "code",
   "execution_count": 6,
   "metadata": {},
   "outputs": [
    {
     "name": "stdout",
     "output_type": "stream",
     "text": [
      "Test MSE: 0.5111516673532057\n",
      "Train MSE: 0.5583572608597993\n"
     ]
    }
   ],
   "source": [
    "print(f\"Test MSE: {MSE(y_test, prediction)[0]}\")\n",
    "print(f\"Train MSE: {MSE(y_train, prediction_train)[0]}\")"
   ]
  },
  {
   "cell_type": "code",
   "execution_count": 7,
   "metadata": {},
   "outputs": [
    {
     "data": {
      "image/png": "[encoded data removed]",
      "text/plain": [
       "<Figure size 432x288 with 1 Axes>"
      ]
     },
     "metadata": {
      "needs_background": "light"
     },
     "output_type": "display_data"
    }
   ],
   "source": [
    "plt.title('Validation Target')\n",
    "plt.plot(prediction, label='prediction')\n",
    "plt.plot(y_test, label='ground truth')\n",
    "plt.legend()\n",
    "plt.show()"
   ]
  },
  {
   "cell_type": "code",
   "execution_count": 8,
   "metadata": {},
   "outputs": [
    {
     "data": {
      "image/png": "[encoded data removed]",
      "text/plain": [
       "<Figure size 432x288 with 1 Axes>"
      ]
     },
     "metadata": {
      "needs_background": "light"
     },
     "output_type": "display_data"
    },
    {
     "data": {
      "image/png": "[encoded data removed]",
      "text/plain": [
       "<Figure size 432x288 with 1 Axes>"
      ]
     },
     "metadata": {
      "needs_background": "light"
     },
     "output_type": "display_data"
    }
   ],
   "source": [
    "plt.title('Validation Prediction Distribution')\n",
    "plt.hist(prediction)\n",
    "plt.show()\n",
    "\n",
    "plt.title('Validation Target Distribution')\n",
    "plt.hist(y_test)\n",
    "plt.show()"
   ]
  },
  {
   "cell_type": "code",
   "execution_count": null,
   "metadata": {},
   "outputs": [],
   "source": []
  }
 ],
 "metadata": {
  "kernelspec": {
   "display_name": "Python 3",
   "language": "python",
   "name": "python3"
  },
  "language_info": {
   "codemirror_mode": {
    "name": "ipython",
    "version": 3
   },
   "file_extension": ".py",
   "mimetype": "text/x-python",
   "name": "python",
   "nbconvert_exporter": "python",
   "pygments_lexer": "ipython3",
   "version": "3.7.8"
  }
 },
 "nbformat": 4,
 "nbformat_minor": 4
}
